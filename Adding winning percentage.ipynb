{
  "cells": [
    {
      "metadata": {
        "trusted": true
      },
      "cell_type": "code",
      "source": "import pandas as pd",
      "execution_count": 55,
      "outputs": []
    },
    {
      "metadata": {
        "trusted": true
      },
      "cell_type": "code",
      "source": "final_2008 = pd.read_csv(\"final_2008.csv\")\nfinal_2009 = pd.read_csv(\"final_2009.csv\")\nfinal_2010 = pd.read_csv(\"final_2010.csv\")\nfinal_2011 = pd.read_csv(\"final_2011.csv\")\nfinal_2012 = pd.read_csv(\"final_2012.csv\")\nfinal_2013 = pd.read_csv(\"final_2013.csv\")\nfinal_2014 = pd.read_csv(\"final_2014.csv\")\nfinal_2015 = pd.read_csv(\"final_2015.csv\")\nfinal_2016 = pd.read_csv(\"final_2016.csv\")\nfinal_2017 = pd.read_csv(\"final_2017.csv\")\nfinal_2018 = pd.read_csv(\"final_2018.csv\")\nfinal_2019 = pd.read_csv(\"final_2019.csv\")\n#Import data file\ndata = pd.read_csv(\"Matches.csv\")\nfinal_2008.head()",
      "execution_count": 56,
      "outputs": [
        {
          "output_type": "execute_result",
          "execution_count": 56,
          "data": {
            "text/html": "<div>\n<style scoped>\n    .dataframe tbody tr th:only-of-type {\n        vertical-align: middle;\n    }\n\n    .dataframe tbody tr th {\n        vertical-align: top;\n    }\n\n    .dataframe thead th {\n        text-align: right;\n    }\n</style>\n<table border=\"1\" class=\"dataframe\">\n  <thead>\n    <tr style=\"text-align: right;\">\n      <th></th>\n      <th>match_id</th>\n      <th>season</th>\n      <th>team1</th>\n      <th>team2</th>\n      <th>winner</th>\n      <th>Batting_RR_Sunrisers Hyderabad</th>\n      <th>Bowling_RR_Sunrisers Hyderabad</th>\n      <th>Batting_RR_Royal Challengers Bangalore</th>\n      <th>Bowling_RR_Royal Challengers Bangalore</th>\n      <th>Batting_RR_Mumbai Indians</th>\n      <th>...</th>\n      <th>net_KKR</th>\n      <th>net_KXIP</th>\n      <th>net_DD</th>\n      <th>net_CSK</th>\n      <th>net_RR</th>\n      <th>net_DC</th>\n      <th>net_KTK</th>\n      <th>net_PW</th>\n      <th>net_RPS.1</th>\n      <th>net_DCa</th>\n    </tr>\n  </thead>\n  <tbody>\n    <tr>\n      <th>0</th>\n      <td>60.0</td>\n      <td>2008.0</td>\n      <td>Kolkata Knight Riders</td>\n      <td>Royal Challengers Bangalore</td>\n      <td>Kolkata Knight Riders</td>\n      <td>NaN</td>\n      <td>NaN</td>\n      <td>5.125</td>\n      <td>11.10</td>\n      <td>NaN</td>\n      <td>...</td>\n      <td>5.975000</td>\n      <td>NaN</td>\n      <td>NaN</td>\n      <td>NaN</td>\n      <td>NaN</td>\n      <td>NaN</td>\n      <td>NaN</td>\n      <td>NaN</td>\n      <td>NaN</td>\n      <td>NaN</td>\n    </tr>\n    <tr>\n      <th>1</th>\n      <td>61.0</td>\n      <td>2008.0</td>\n      <td>Chennai Super Kings</td>\n      <td>Kings XI Punjab</td>\n      <td>Chennai Super Kings</td>\n      <td>NaN</td>\n      <td>NaN</td>\n      <td>NaN</td>\n      <td>NaN</td>\n      <td>NaN</td>\n      <td>...</td>\n      <td>NaN</td>\n      <td>-1.65</td>\n      <td>NaN</td>\n      <td>1.65</td>\n      <td>NaN</td>\n      <td>NaN</td>\n      <td>NaN</td>\n      <td>NaN</td>\n      <td>NaN</td>\n      <td>NaN</td>\n    </tr>\n    <tr>\n      <th>2</th>\n      <td>62.0</td>\n      <td>2008.0</td>\n      <td>Rajasthan Royals</td>\n      <td>Delhi Daredevils</td>\n      <td>Delhi Daredevils</td>\n      <td>NaN</td>\n      <td>NaN</td>\n      <td>NaN</td>\n      <td>NaN</td>\n      <td>NaN</td>\n      <td>...</td>\n      <td>NaN</td>\n      <td>NaN</td>\n      <td>1.8</td>\n      <td>NaN</td>\n      <td>-1.8</td>\n      <td>NaN</td>\n      <td>NaN</td>\n      <td>NaN</td>\n      <td>NaN</td>\n      <td>NaN</td>\n    </tr>\n    <tr>\n      <th>3</th>\n      <td>63.0</td>\n      <td>2008.0</td>\n      <td>Mumbai Indians</td>\n      <td>Royal Challengers Bangalore</td>\n      <td>Royal Challengers Bangalore</td>\n      <td>NaN</td>\n      <td>NaN</td>\n      <td>13.425</td>\n      <td>19.35</td>\n      <td>8.25</td>\n      <td>...</td>\n      <td>NaN</td>\n      <td>NaN</td>\n      <td>NaN</td>\n      <td>NaN</td>\n      <td>NaN</td>\n      <td>NaN</td>\n      <td>NaN</td>\n      <td>NaN</td>\n      <td>NaN</td>\n      <td>NaN</td>\n    </tr>\n    <tr>\n      <th>4</th>\n      <td>64.0</td>\n      <td>2008.0</td>\n      <td>Deccan Chargers</td>\n      <td>Kolkata Knight Riders</td>\n      <td>Kolkata Knight Riders</td>\n      <td>NaN</td>\n      <td>NaN</td>\n      <td>NaN</td>\n      <td>NaN</td>\n      <td>NaN</td>\n      <td>...</td>\n      <td>6.080263</td>\n      <td>NaN</td>\n      <td>NaN</td>\n      <td>NaN</td>\n      <td>NaN</td>\n      <td>-0.105263</td>\n      <td>NaN</td>\n      <td>NaN</td>\n      <td>NaN</td>\n      <td>NaN</td>\n    </tr>\n  </tbody>\n</table>\n<p>5 rows × 51 columns</p>\n</div>",
            "text/plain": "   match_id  season                  team1                        team2  \\\n0      60.0  2008.0  Kolkata Knight Riders  Royal Challengers Bangalore   \n1      61.0  2008.0    Chennai Super Kings              Kings XI Punjab   \n2      62.0  2008.0       Rajasthan Royals             Delhi Daredevils   \n3      63.0  2008.0         Mumbai Indians  Royal Challengers Bangalore   \n4      64.0  2008.0        Deccan Chargers        Kolkata Knight Riders   \n\n                        winner  Batting_RR_Sunrisers Hyderabad  \\\n0        Kolkata Knight Riders                             NaN   \n1          Chennai Super Kings                             NaN   \n2             Delhi Daredevils                             NaN   \n3  Royal Challengers Bangalore                             NaN   \n4        Kolkata Knight Riders                             NaN   \n\n   Bowling_RR_Sunrisers Hyderabad  Batting_RR_Royal Challengers Bangalore  \\\n0                             NaN                                   5.125   \n1                             NaN                                     NaN   \n2                             NaN                                     NaN   \n3                             NaN                                  13.425   \n4                             NaN                                     NaN   \n\n   Bowling_RR_Royal Challengers Bangalore  Batting_RR_Mumbai Indians   ...     \\\n0                                   11.10                        NaN   ...      \n1                                     NaN                        NaN   ...      \n2                                     NaN                        NaN   ...      \n3                                   19.35                       8.25   ...      \n4                                     NaN                        NaN   ...      \n\n    net_KKR  net_KXIP  net_DD  net_CSK  net_RR    net_DC  net_KTK  net_PW  \\\n0  5.975000       NaN     NaN      NaN     NaN       NaN      NaN     NaN   \n1       NaN     -1.65     NaN     1.65     NaN       NaN      NaN     NaN   \n2       NaN       NaN     1.8      NaN    -1.8       NaN      NaN     NaN   \n3       NaN       NaN     NaN      NaN     NaN       NaN      NaN     NaN   \n4  6.080263       NaN     NaN      NaN     NaN -0.105263      NaN     NaN   \n\n   net_RPS.1  net_DCa  \n0        NaN      NaN  \n1        NaN      NaN  \n2        NaN      NaN  \n3        NaN      NaN  \n4        NaN      NaN  \n\n[5 rows x 51 columns]"
          },
          "metadata": {}
        }
      ]
    },
    {
      "metadata": {
        "trusted": true
      },
      "cell_type": "code",
      "source": "rcb_08 = final_2008[(final_2008[\"team1\"]==\"Royal Challengers Bangalore\") |( final_2008[\"team2\"]==\"Royal Challengers Bangalore\")] \nwin = 0\ngames = 0\nrcb_win_percentage = []\nfor index, rows in rcb_08.iterrows():\n    games += 1\n    if (rcb_08.loc[index,\"winner\"] == \"Royal Challengers Bangalore\"):\n        win +=1\n        rcb_win_percentage.append([index,win/games])\n",
      "execution_count": 57,
      "outputs": []
    },
    {
      "metadata": {
        "trusted": true
      },
      "cell_type": "code",
      "source": "teams = ['Sunrisers Hyderabad', 'Royal Challengers Bangalore', 'Mumbai Indians', 'Rising Pune Supergiant', 'Gujarat Lions', 'Kolkata Knight Riders', 'Kings XI Punjab', 'Delhi Daredevils', 'Chennai Super Kings', 'Rajasthan Royals', 'Deccan Chargers', 'Kochi Tuskers Kerala', 'Pune Warriors', 'Rising Pune Supergiants', 'Delhi Capitals']",
      "execution_count": 58,
      "outputs": []
    },
    {
      "metadata": {
        "trusted": true
      },
      "cell_type": "code",
      "source": "dct = {}\nfor item in teams:\n    dct[item] = [0]\nlast = pd.DataFrame(dct,data[\"id\"])\nlast.reset_index(inplace=True)\nlast.rename(columns={\"id\":\"match_id\"},inplace=True)\nlast.head()",
      "execution_count": 59,
      "outputs": [
        {
          "output_type": "execute_result",
          "execution_count": 59,
          "data": {
            "text/html": "<div>\n<style scoped>\n    .dataframe tbody tr th:only-of-type {\n        vertical-align: middle;\n    }\n\n    .dataframe tbody tr th {\n        vertical-align: top;\n    }\n\n    .dataframe thead th {\n        text-align: right;\n    }\n</style>\n<table border=\"1\" class=\"dataframe\">\n  <thead>\n    <tr style=\"text-align: right;\">\n      <th></th>\n      <th>match_id</th>\n      <th>Sunrisers Hyderabad</th>\n      <th>Royal Challengers Bangalore</th>\n      <th>Mumbai Indians</th>\n      <th>Rising Pune Supergiant</th>\n      <th>Gujarat Lions</th>\n      <th>Kolkata Knight Riders</th>\n      <th>Kings XI Punjab</th>\n      <th>Delhi Daredevils</th>\n      <th>Chennai Super Kings</th>\n      <th>Rajasthan Royals</th>\n      <th>Deccan Chargers</th>\n      <th>Kochi Tuskers Kerala</th>\n      <th>Pune Warriors</th>\n      <th>Rising Pune Supergiants</th>\n      <th>Delhi Capitals</th>\n    </tr>\n  </thead>\n  <tbody>\n    <tr>\n      <th>0</th>\n      <td>1</td>\n      <td>0</td>\n      <td>0</td>\n      <td>0</td>\n      <td>0</td>\n      <td>0</td>\n      <td>0</td>\n      <td>0</td>\n      <td>0</td>\n      <td>0</td>\n      <td>0</td>\n      <td>0</td>\n      <td>0</td>\n      <td>0</td>\n      <td>0</td>\n      <td>0</td>\n    </tr>\n    <tr>\n      <th>1</th>\n      <td>2</td>\n      <td>0</td>\n      <td>0</td>\n      <td>0</td>\n      <td>0</td>\n      <td>0</td>\n      <td>0</td>\n      <td>0</td>\n      <td>0</td>\n      <td>0</td>\n      <td>0</td>\n      <td>0</td>\n      <td>0</td>\n      <td>0</td>\n      <td>0</td>\n      <td>0</td>\n    </tr>\n    <tr>\n      <th>2</th>\n      <td>3</td>\n      <td>0</td>\n      <td>0</td>\n      <td>0</td>\n      <td>0</td>\n      <td>0</td>\n      <td>0</td>\n      <td>0</td>\n      <td>0</td>\n      <td>0</td>\n      <td>0</td>\n      <td>0</td>\n      <td>0</td>\n      <td>0</td>\n      <td>0</td>\n      <td>0</td>\n    </tr>\n    <tr>\n      <th>3</th>\n      <td>4</td>\n      <td>0</td>\n      <td>0</td>\n      <td>0</td>\n      <td>0</td>\n      <td>0</td>\n      <td>0</td>\n      <td>0</td>\n      <td>0</td>\n      <td>0</td>\n      <td>0</td>\n      <td>0</td>\n      <td>0</td>\n      <td>0</td>\n      <td>0</td>\n      <td>0</td>\n    </tr>\n    <tr>\n      <th>4</th>\n      <td>5</td>\n      <td>0</td>\n      <td>0</td>\n      <td>0</td>\n      <td>0</td>\n      <td>0</td>\n      <td>0</td>\n      <td>0</td>\n      <td>0</td>\n      <td>0</td>\n      <td>0</td>\n      <td>0</td>\n      <td>0</td>\n      <td>0</td>\n      <td>0</td>\n      <td>0</td>\n    </tr>\n  </tbody>\n</table>\n</div>",
            "text/plain": "   match_id  Sunrisers Hyderabad  Royal Challengers Bangalore  Mumbai Indians  \\\n0         1                    0                            0               0   \n1         2                    0                            0               0   \n2         3                    0                            0               0   \n3         4                    0                            0               0   \n4         5                    0                            0               0   \n\n   Rising Pune Supergiant  Gujarat Lions  Kolkata Knight Riders  \\\n0                       0              0                      0   \n1                       0              0                      0   \n2                       0              0                      0   \n3                       0              0                      0   \n4                       0              0                      0   \n\n   Kings XI Punjab  Delhi Daredevils  Chennai Super Kings  Rajasthan Royals  \\\n0                0                 0                    0                 0   \n1                0                 0                    0                 0   \n2                0                 0                    0                 0   \n3                0                 0                    0                 0   \n4                0                 0                    0                 0   \n\n   Deccan Chargers  Kochi Tuskers Kerala  Pune Warriors  \\\n0                0                     0              0   \n1                0                     0              0   \n2                0                     0              0   \n3                0                     0              0   \n4                0                     0              0   \n\n   Rising Pune Supergiants  Delhi Capitals  \n0                        0               0  \n1                        0               0  \n2                        0               0  \n3                        0               0  \n4                        0               0  "
          },
          "metadata": {}
        }
      ]
    },
    {
      "metadata": {
        "trusted": true
      },
      "cell_type": "code",
      "source": "final_2008 = final_2008.merge(last)\nfinal_2009 = final_2009.merge(last)\nfinal_2010 = final_2010.merge(last)\nfinal_2011 = final_2011.merge(last)\nfinal_2012 = final_2012.merge(last)\nfinal_2013 = final_2013.merge(last)\nfinal_2014 = final_2014.merge(last)\nfinal_2015 = final_2015.merge(last)\nfinal_2016 = final_2016.merge(last)\nfinal_2017 = final_2017.merge(last)\nfinal_2018 = final_2018.merge(last)\nfinal_2019 = final_2019.merge(last)",
      "execution_count": 60,
      "outputs": []
    },
    {
      "metadata": {
        "trusted": true
      },
      "cell_type": "code",
      "source": "games = 0 \ngames_won = 0\nfor item in teams:\n    for index, rows in final_2008.iterrows():\n        if  final_2008.loc[index, \"team1\"] == item or final_2008.loc[index,\"team2\"] == item :\n            games +=1\n            final_2008.loc[index,item] = ([games_won/games])\n            if final_2008.loc[index,\"winner\"] == item:\n                games_won +=1\n                final_2008.loc[index,item] = ([games_won/games])\n    games = 0\n    games_won = 0",
      "execution_count": 61,
      "outputs": []
    },
    {
      "metadata": {
        "trusted": true
      },
      "cell_type": "code",
      "source": "for item in teams:\n    for index, rows in final_2012.iterrows():\n        if  final_2012.loc[index, \"team1\"] == item or final_2012.loc[index,\"team2\"] == item :\n            games +=1\n            final_2012.loc[index,item] = ([games_won/games])\n            if final_2012.loc[index,\"winner\"] == item:\n                games_won +=1\n                final_2012.loc[index,item] = ([games_won/games])\n    games = 0\n    games_won = 0",
      "execution_count": 62,
      "outputs": []
    },
    {
      "metadata": {
        "trusted": true
      },
      "cell_type": "code",
      "source": "for item in teams:\n    for index, rows in final_2013.iterrows():\n        if  final_2013.loc[index, \"team1\"] == item or final_2013.loc[index,\"team2\"] == item :\n            games +=1\n            final_2013.loc[index,item] = ([games_won/games])\n            if final_2013.loc[index,\"winner\"] == item:\n                games_won +=1\n                final_2013.loc[index,item] = ([games_won/games])\n    games = 0\n    games_won = 0",
      "execution_count": 63,
      "outputs": []
    },
    {
      "metadata": {
        "trusted": true
      },
      "cell_type": "code",
      "source": "for item in teams:\n    for index, rows in final_2014.iterrows():\n        if  final_2014.loc[index, \"team1\"] == item or final_2014.loc[index,\"team2\"] == item :\n            games +=1\n            final_2014.loc[index,item] = ([games_won/games])\n            if final_2014.loc[index,\"winner\"] == item:\n                games_won +=1\n                final_2014.loc[index,item] = ([games_won/games])\n    games = 0\n    games_won = 0",
      "execution_count": 64,
      "outputs": []
    },
    {
      "metadata": {
        "trusted": true
      },
      "cell_type": "code",
      "source": "for item in teams:\n    for index, rows in final_2015.iterrows():\n        if  final_2015.loc[index, \"team1\"] == item or final_2015.loc[index,\"team2\"] == item :\n            games +=1\n            final_2015.loc[index,item] = ([games_won/games])\n            if final_2015.loc[index,\"winner\"] == item:\n                games_won +=1\n                final_2015.loc[index,item] = ([games_won/games])\n    games = 0\n    games_won = 0",
      "execution_count": 65,
      "outputs": []
    },
    {
      "metadata": {
        "trusted": true
      },
      "cell_type": "code",
      "source": "for item in teams:\n    for index, rows in final_2016.iterrows():\n        if  final_2016.loc[index, \"team1\"] == item or final_2016.loc[index,\"team2\"] == item :\n            games +=1\n            final_2016.loc[index,item] = ([games_won/games])\n            if final_2016.loc[index,\"winner\"] == item:\n                games_won +=1\n                final_2016.loc[index,item] = ([games_won/games])\n    games = 0\n    games_won = 0",
      "execution_count": 66,
      "outputs": []
    },
    {
      "metadata": {
        "trusted": true
      },
      "cell_type": "code",
      "source": "for item in teams:\n    for index, rows in final_2017.iterrows():\n        if  final_2017.loc[index, \"team1\"] == item or final_2017.loc[index,\"team2\"] == item :\n            games +=1\n            final_2017.loc[index,item] = ([games_won/games])\n            if final_2017.loc[index,\"winner\"] == item:\n                games_won +=1\n                final_2017.loc[index,item] = ([games_won/games])\n    games = 0\n    games_won = 0",
      "execution_count": 67,
      "outputs": []
    },
    {
      "metadata": {
        "trusted": true
      },
      "cell_type": "code",
      "source": "for item in teams:\n    for index, rows in final_2018.iterrows():\n        if  final_2018.loc[index, \"team1\"] == item or final_2018.loc[index,\"team2\"] == item :\n            games +=1\n            final_2018.loc[index,item] = ([games_won/games])\n            if final_2018.loc[index,\"winner\"] == item:\n                games_won +=1\n                final_2018.loc[index,item] = ([games_won/games])\n    games = 0\n    games_won = 0",
      "execution_count": 68,
      "outputs": []
    },
    {
      "metadata": {
        "trusted": true
      },
      "cell_type": "code",
      "source": "for item in teams:\n    for index, rows in final_2019.iterrows():\n        if  final_2019.loc[index, \"team1\"] == item or final_2019.loc[index,\"team2\"] == item :\n            games +=1\n            final_2019.loc[index,item] = ([games_won/games])\n            if final_2019.loc[index,\"winner\"] == item:\n                games_won +=1\n                final_2019.loc[index,item] = ([games_won/games])\n    games = 0\n    games_won = 0",
      "execution_count": 69,
      "outputs": []
    },
    {
      "metadata": {
        "trusted": true
      },
      "cell_type": "code",
      "source": "for item in teams:\n    for index, rows in final_2009.iterrows():\n        if  final_2009.loc[index, \"team1\"] == item or final_2009.loc[index,\"team2\"] == item :\n            games +=1\n            final_2009.loc[index,item] = ([games_won/games])\n            if final_2009.loc[index,\"winner\"] == item:\n                games_won +=1\n                final_2009.loc[index,item] = ([games_won/games])\n    games = 0\n    games_won = 0",
      "execution_count": 70,
      "outputs": []
    },
    {
      "metadata": {
        "trusted": true
      },
      "cell_type": "code",
      "source": "for item in teams:\n    for index, rows in final_2010.iterrows():\n        if  final_2010.loc[index, \"team1\"] == item or final_2010.loc[index,\"team2\"] == item :\n            games +=1\n            final_2010.loc[index,item] = ([games_won/games])\n            if final_2010.loc[index,\"winner\"] == item:\n                games_won +=1\n                final_2010.loc[index,item] = ([games_won/games])\n    games = 0\n    games_won = 0",
      "execution_count": 71,
      "outputs": []
    },
    {
      "metadata": {
        "trusted": true
      },
      "cell_type": "code",
      "source": "final_2008.to_csv('final_2008_.csv',index=False)\nfinal_2009.to_csv('final_2009_.csv',index=False)\nfinal_2010.to_csv('final_2010_.csv',index=False)\nfinal_2011.to_csv('final_2011_.csv',index=False)\nfinal_2012.to_csv('final_2012_.csv',index=False)\nfinal_2013.to_csv('final_2013_.csv',index=False)\nfinal_2014.to_csv('final_2014_.csv',index=False)\nfinal_2015.to_csv('final_2015_.csv',index=False)\nfinal_2016.to_csv('final_2016_.csv',index=False)\nfinal_2017.to_csv('final_2017_.csv',index=False)\nfinal_2018.to_csv('final_2018_.csv',index=False)\nfinal_2019.to_csv('final_2019_.csv',index=False)",
      "execution_count": 72,
      "outputs": []
    }
  ],
  "metadata": {
    "kernelspec": {
      "name": "python36",
      "display_name": "Python 3.6",
      "language": "python"
    },
    "language_info": {
      "mimetype": "text/x-python",
      "nbconvert_exporter": "python",
      "name": "python",
      "pygments_lexer": "ipython3",
      "version": "3.6.6",
      "file_extension": ".py",
      "codemirror_mode": {
        "version": 3,
        "name": "ipython"
      }
    }
  },
  "nbformat": 4,
  "nbformat_minor": 2
}