{
  "cells": [
    {
      "metadata": {
        "trusted": true
      },
      "cell_type": "code",
      "source": "import pandas as pd\nimport numpy as np",
      "execution_count": 317,
      "outputs": []
    },
    {
      "metadata": {
        "trusted": true
      },
      "cell_type": "code",
      "source": "final = pd.read_csv(\"finaldata.csv\")",
      "execution_count": 458,
      "outputs": []
    },
    {
      "metadata": {
        "trusted": true
      },
      "cell_type": "code",
      "source": "dct= {}\nfor index in range(2008,2016,1):\n    dct['final_%s' % index] = final.loc[final[\"season\"]==index]",
      "execution_count": 319,
      "outputs": []
    },
    {
      "metadata": {
        "trusted": true
      },
      "cell_type": "code",
      "source": "final_2008 = dct[\"final_2008\"]\nfinal_2009 = dct[\"final_2009\"]\nfinal_2010 = dct[\"final_2010\"]\nfinal_2011 = dct[\"final_2011\"]\nfinal_2012 = dct[\"final_2012\"]\nfinal_2013 = dct[\"final_2013\"]\nfinal_2014 = dct[\"final_2014\"] \nfinal_2015 = dct[\"final_2015\"]",
      "execution_count": 320,
      "outputs": []
    },
    {
      "metadata": {
        "trusted": true
      },
      "cell_type": "code",
      "source": "x_2008 = final_2008.drop([\"winning_team\",\"season\"],axis=1)\ny_2008 = final_2008[\"winning_team\"]\nx_2009 = final_2009.drop([\"winning_team\",\"season\"],axis=1)\ny_2009 = final_2009[\"winning_team\"]\nx_2010 = final_2010.drop([\"winning_team\",\"season\"],axis=1)\ny_2010 = final_2010[\"winning_team\"]\nx_2011 = final_2011.drop([\"winning_team\",\"season\"],axis=1)\ny_2011 = final_2011[\"winning_team\"]\nx_2012 = final_2012.drop([\"winning_team\",\"season\"],axis=1)\ny_2012 = final_2012[\"winning_team\"]\nx_2013 = final_2013.drop([\"winning_team\",\"season\"],axis=1)\ny_2013 = final_2013[\"winning_team\"]\nx_2014 = final_2014.drop([\"winning_team\",\"season\"],axis=1)\ny_2014 = final_2014[\"winning_team\"]\nx_2015 = final_2015.drop([\"winning_team\",\"season\"],axis=1)\ny_2015 = final_2015[\"winning_team\"]",
      "execution_count": 321,
      "outputs": []
    },
    {
      "metadata": {},
      "cell_type": "markdown",
      "source": "# Random Forest Classifier"
    },
    {
      "metadata": {
        "trusted": true
      },
      "cell_type": "code",
      "source": "from sklearn.ensemble import RandomForestClassifier\nrf = RandomForestClassifier()",
      "execution_count": 322,
      "outputs": []
    },
    {
      "metadata": {
        "trusted": true
      },
      "cell_type": "code",
      "source": "params = {\"max_depth\": [1,2,3],\n          \"n_estimators\": [5,10,15,20],\n          \"criterion\": [\"gini\",\"entropy\"],\n          \"class_weight\": [{1:r} for r in [1,1.1,1.2,1.3]]}",
      "execution_count": 405,
      "outputs": []
    },
    {
      "metadata": {
        "trusted": true
      },
      "cell_type": "code",
      "source": "from sklearn.model_selection import GridSearchCV",
      "execution_count": 406,
      "outputs": []
    },
    {
      "metadata": {
        "trusted": true
      },
      "cell_type": "code",
      "source": "gridsearch = GridSearchCV(param_grid = params, cv = 3, estimator = rf, scoring = \"roc_auc\",verbose=1,n_jobs=3)",
      "execution_count": 407,
      "outputs": []
    },
    {
      "metadata": {
        "trusted": true
      },
      "cell_type": "code",
      "source": "gridsearch.fit(x_2008,y_2008)\nprint(\"best parameters are:\", gridsearch.best_params_)\nprint(\"best score is:\", gridsearch.best_score_)",
      "execution_count": 408,
      "outputs": [
        {
          "output_type": "stream",
          "text": "Fitting 3 folds for each of 96 candidates, totalling 288 fits\n",
          "name": "stdout"
        },
        {
          "output_type": "stream",
          "text": "[Parallel(n_jobs=3)]: Using backend LokyBackend with 3 concurrent workers.\n[Parallel(n_jobs=3)]: Done  44 tasks      | elapsed:    5.2s\n[Parallel(n_jobs=3)]: Done 194 tasks      | elapsed:   22.1s\n",
          "name": "stderr"
        },
        {
          "output_type": "stream",
          "text": "best parameters are: {'class_weight': {1: 1}, 'criterion': 'gini', 'max_depth': 3, 'n_estimators': 5}\nbest score is: 0.44714696223316913\n",
          "name": "stdout"
        },
        {
          "output_type": "stream",
          "text": "[Parallel(n_jobs=3)]: Done 288 out of 288 | elapsed:   33.1s finished\n/home/nbuser/anaconda3_501/lib/python3.6/site-packages/sklearn/model_selection/_search.py:841: DeprecationWarning: The default of the `iid` parameter will change from True to False in version 0.22 and will be removed in 0.24. This will change numeric results when test-set sizes are unequal.\n  DeprecationWarning)\n",
          "name": "stderr"
        }
      ]
    },
    {
      "metadata": {
        "trusted": true
      },
      "cell_type": "code",
      "source": "##Instantiate rf with parameters from above \nrf = RandomForestClassifier(criterion = \"gini\", max_depth = 3, n_estimators = 5,random_state=123)",
      "execution_count": 409,
      "outputs": []
    },
    {
      "metadata": {
        "trusted": true
      },
      "cell_type": "code",
      "source": "##Create rf fits for all years\n##Predicted variables\nfrom sklearn.metrics import classification_report, confusion_matrix, matthews_corrcoef, accuracy_score\n##Calculate accuracy score\n#2009\nrf2009 = rf.fit(x_2008,y_2008)\nyhat_2009 = rf2009.predict(x_2009)\nreport_2009 = accuracy_score(y_2009,yhat_2009)\n#2010\nrf2010 = rf.fit(x_2009,y_2009)\nyhat_2010 = rf2010.predict(x_2010)\nreport_2010 = accuracy_score(y_2010,yhat_2010)\n#2011\nrf2011 = rf.fit(x_2010,y_2010)\nyhat_2011 = rf2011.predict(x_2011)\nreport_2011 = accuracy_score(y_2011,yhat_2011)\n#2012\nrf2012 = rf.fit(x_2011,y_2011)\nyhat_2012 = rf2012.predict(x_2012)\nreport_2012 = accuracy_score(y_2012,yhat_2012)\n#2013\nrf2013 = rf.fit(x_2012,y_2012)\nyhat_2013 = rf2013.predict(x_2013)\nreport_2013 = accuracy_score(y_2013,yhat_2013)\n#2014\nrf2014 = rf.fit(x_2013,y_2013)\nyhat_2014 = rf2014.predict(x_2014)\nreport_2014 = accuracy_score(y_2014,yhat_2014)\n#2015\nrf2015 = rf.fit(x_2013,y_2013)\nyhat_2015 = rf2015.predict(x_2015)\nreport_2015 = accuracy_score(y_2015,yhat_2015)",
      "execution_count": 410,
      "outputs": []
    },
    {
      "metadata": {
        "trusted": true
      },
      "cell_type": "code",
      "source": "import matplotlib.pyplot as plt\nimport itertools\ndef plot_confusion_matrix(cm, classes,\n                          normalize=False,\n                          title='Confusion matrix',\n                          cmap=plt.cm.Blues):\n    \"\"\"\n    This function prints and plots the confusion matrix.\n    Normalization can be applied by setting `normalize=True`.\n    \"\"\"\n    if normalize:\n        cm = cm.astype('float') / cm.sum(axis=1)[:, np.newaxis]\n        print(\"Normalized confusion matrix\")\n    else:\n        print('Confusion matrix, without normalization')\n\n    print(cm)\n\n    plt.imshow(cm, interpolation='nearest', cmap=cmap)\n    plt.title(title)\n    plt.colorbar()\n    tick_marks = np.arange(len(classes))\n    plt.xticks(tick_marks, classes, rotation=45)\n    plt.yticks(tick_marks, classes)\n\n    fmt = '.2f' if normalize else 'd'\n    thresh = cm.max() / 2.\n    for i, j in itertools.product(range(cm.shape[0]), range(cm.shape[1])):\n        plt.text(j, i, format(cm[i, j], fmt),\n                 horizontalalignment=\"center\",\n                 color=\"white\" if cm[i, j] > thresh else \"black\")\n\n    plt.tight_layout()\n    plt.ylabel('True label')\n    plt.xlabel('Predicted label')\n# Compute confusion matrix\ncnf_matrix = confusion_matrix(y_2012, yhat_2012, labels=[1,0])\nnp.set_printoptions(precision=2)\n\n\n# Plot non-normalized confusion matrix\nplt.figure()\nplot_confusion_matrix(cnf_matrix, classes=['team1_win=1','team2_win=0'],normalize= False,  title='Confusion matrix')",
      "execution_count": 411,
      "outputs": [
        {
          "output_type": "stream",
          "text": "Confusion matrix, without normalization\n[[15 19]\n [20 20]]\n",
          "name": "stdout"
        },
        {
          "output_type": "display_data",
          "data": {
            "image/png": "[encoded data removed]",
            "text/plain": "<Figure size 432x288 with 2 Axes>"
          },
          "metadata": {
            "needs_background": "light"
          }
        }
      ]
    },
    {
      "metadata": {
        "trusted": true
      },
      "cell_type": "code",
      "source": "rfscores = [report_2009,report_2010,report_2011,report_2012,report_2013,report_2014,report_2015]",
      "execution_count": 412,
      "outputs": []
    },
    {
      "metadata": {},
      "cell_type": "markdown",
      "source": "# Logistic Regression"
    },
    {
      "metadata": {
        "trusted": true
      },
      "cell_type": "code",
      "source": "from sklearn.linear_model import LogisticRegression\nlr = LogisticRegression()",
      "execution_count": 413,
      "outputs": []
    },
    {
      "metadata": {
        "trusted": true
      },
      "cell_type": "code",
      "source": "params = {\"penalty\": [\"l1\", \"l2\"],\n          \"C\": [0.5,1,1,5],\n          \"class_weight\": [{1:w} for w in [1,1.1,1.2,1.3]]}",
      "execution_count": 414,
      "outputs": []
    },
    {
      "metadata": {
        "trusted": true
      },
      "cell_type": "code",
      "source": "gridsearch = GridSearchCV(param_grid = params, estimator = lr, cv = 3, scoring = \"roc_auc\", verbose=1, n_jobs = 3)",
      "execution_count": 415,
      "outputs": []
    },
    {
      "metadata": {
        "trusted": true
      },
      "cell_type": "code",
      "source": "gridsearch.fit(x_2008,y_2008)\nprint(\"best parameters are:\", gridsearch.best_params_)\nprint(\"best score is:\", gridsearch.best_score_)",
      "execution_count": 334,
      "outputs": [
        {
          "output_type": "stream",
          "text": "Fitting 3 folds for each of 32 candidates, totalling 96 fits\n",
          "name": "stdout"
        },
        {
          "output_type": "stream",
          "text": "[Parallel(n_jobs=3)]: Using backend LokyBackend with 3 concurrent workers.\n[Parallel(n_jobs=3)]: Done  44 tasks      | elapsed:    3.8s\n",
          "name": "stderr"
        },
        {
          "output_type": "stream",
          "text": "best parameters are: {'C': 0.5, 'class_weight': {1: 1.2}, 'penalty': 'l1'}\nbest score is: 0.6320812807881773\n",
          "name": "stdout"
        },
        {
          "output_type": "stream",
          "text": "[Parallel(n_jobs=3)]: Done  96 out of  96 | elapsed:    6.8s finished\n/home/nbuser/anaconda3_501/lib/python3.6/site-packages/sklearn/model_selection/_search.py:841: DeprecationWarning: The default of the `iid` parameter will change from True to False in version 0.22 and will be removed in 0.24. This will change numeric results when test-set sizes are unequal.\n  DeprecationWarning)\n/home/nbuser/anaconda3_501/lib/python3.6/site-packages/sklearn/linear_model/logistic.py:433: FutureWarning: Default solver will be changed to 'lbfgs' in 0.22. Specify a solver to silence this warning.\n  FutureWarning)\n",
          "name": "stderr"
        }
      ]
    },
    {
      "metadata": {
        "trusted": true
      },
      "cell_type": "code",
      "source": "##Instantiate regressor with above parameters\nlr = LogisticRegression(C = 0.5, class_weight = {1: 1.3}, penalty = 'l1')",
      "execution_count": 416,
      "outputs": []
    },
    {
      "metadata": {
        "trusted": true
      },
      "cell_type": "code",
      "source": "##Fit regressor\n##Calculate predicted values\n#Calcuate accuracy scores\n#2009\nlr2009 = lr.fit(x_2008,y_2008)\nyhat_2009 = lr2009.predict(x_2009)\nlrs_2009 = accuracy_score(y_2009,yhat_2009)\n#2010\nlr2010 = lr.fit(x_2009,y_2009)\nyhat_2010 = lr2010.predict(x_2010)\nlrs_2010 = accuracy_score(y_2010,yhat_2010)\n#2011\nlr2011 = lr.fit(x_2010,y_2010)\nyhat_2011 = lr2011.predict(x_2011)\nlrs_2011 = accuracy_score(y_2011,yhat_2011)\n#2012\nlr2012 = lr.fit(x_2011,y_2011)\nyhat_2012= lr2012.predict(x_2012)\nlrs_2012 = accuracy_score(y_2012,yhat_2012)\n#2013\nlr2013 = lr.fit(x_2012,y_2012)\nyhat_2013 = lr2013.predict(x_2013)\nlrs_2013 = accuracy_score(y_2013,yhat_2013)\n#2014\nlr2014 = lr.fit(x_2013,y_2013)\nyhat_2014 = lr2014.predict(x_2014)\nlrs_2014 = accuracy_score(y_2014,yhat_2014)\n#2015\nlr2015 = lr.fit(x_2013,y_2013)\nyhat_2015 = lr2015.predict(x_2015)\nlrs_2015 = accuracy_score(y_2015,yhat_2015)",
      "execution_count": 417,
      "outputs": [
        {
          "output_type": "stream",
          "text": "/home/nbuser/anaconda3_501/lib/python3.6/site-packages/sklearn/linear_model/logistic.py:433: FutureWarning: Default solver will be changed to 'lbfgs' in 0.22. Specify a solver to silence this warning.\n  FutureWarning)\n/home/nbuser/anaconda3_501/lib/python3.6/site-packages/sklearn/linear_model/logistic.py:433: FutureWarning: Default solver will be changed to 'lbfgs' in 0.22. Specify a solver to silence this warning.\n  FutureWarning)\n/home/nbuser/anaconda3_501/lib/python3.6/site-packages/sklearn/linear_model/logistic.py:433: FutureWarning: Default solver will be changed to 'lbfgs' in 0.22. Specify a solver to silence this warning.\n  FutureWarning)\n/home/nbuser/anaconda3_501/lib/python3.6/site-packages/sklearn/linear_model/logistic.py:433: FutureWarning: Default solver will be changed to 'lbfgs' in 0.22. Specify a solver to silence this warning.\n  FutureWarning)\n/home/nbuser/anaconda3_501/lib/python3.6/site-packages/sklearn/linear_model/logistic.py:433: FutureWarning: Default solver will be changed to 'lbfgs' in 0.22. Specify a solver to silence this warning.\n  FutureWarning)\n/home/nbuser/anaconda3_501/lib/python3.6/site-packages/sklearn/linear_model/logistic.py:433: FutureWarning: Default solver will be changed to 'lbfgs' in 0.22. Specify a solver to silence this warning.\n  FutureWarning)\n/home/nbuser/anaconda3_501/lib/python3.6/site-packages/sklearn/linear_model/logistic.py:433: FutureWarning: Default solver will be changed to 'lbfgs' in 0.22. Specify a solver to silence this warning.\n  FutureWarning)\n",
          "name": "stderr"
        }
      ]
    },
    {
      "metadata": {
        "trusted": true
      },
      "cell_type": "code",
      "source": "lrs = [lrs_2009,lrs_2010,lrs_2011,lrs_2012,lrs_2013,lrs_2014,lrs_2015]",
      "execution_count": 418,
      "outputs": []
    },
    {
      "metadata": {},
      "cell_type": "markdown",
      "source": "# Decision Tree"
    },
    {
      "metadata": {
        "trusted": true
      },
      "cell_type": "code",
      "source": "from sklearn.tree import DecisionTreeClassifier\ndt = DecisionTreeClassifier()",
      "execution_count": 419,
      "outputs": []
    },
    {
      "metadata": {
        "trusted": true
      },
      "cell_type": "code",
      "source": "params = params = {\"max_depth\": [1,2,3,4],\n          \"criterion\": [\"entropy\",\"gini\"],\n          \"splitter\": [\"best\",\"random\"],\n           \"class_weight\": [{1:w} for w in [1,1.1,1.2,1.3]]}",
      "execution_count": 420,
      "outputs": []
    },
    {
      "metadata": {
        "trusted": true
      },
      "cell_type": "code",
      "source": "gridsearch = gridsearch = GridSearchCV(param_grid = params, estimator = dt, cv = 3, scoring = \"roc_auc\", verbose=1, n_jobs = 3)",
      "execution_count": 340,
      "outputs": []
    },
    {
      "metadata": {
        "trusted": true
      },
      "cell_type": "code",
      "source": "gridsearch.fit(x_2008,y_2008)\nprint(\"best parameters are:\", gridsearch.best_params_)\nprint(\"best score is:\", gridsearch.best_score_)",
      "execution_count": 421,
      "outputs": [
        {
          "output_type": "stream",
          "text": "Fitting 3 folds for each of 32 candidates, totalling 96 fits\n",
          "name": "stdout"
        },
        {
          "output_type": "stream",
          "text": "[Parallel(n_jobs=3)]: Using backend LokyBackend with 3 concurrent workers.\n[Parallel(n_jobs=3)]: Done  44 tasks      | elapsed:    2.9s\n",
          "name": "stderr"
        },
        {
          "output_type": "stream",
          "text": "best parameters are: {'C': 0.5, 'class_weight': {1: 1.3}, 'penalty': 'l1'}\nbest score is: 0.6301313628899835\n",
          "name": "stdout"
        },
        {
          "output_type": "stream",
          "text": "[Parallel(n_jobs=3)]: Done  96 out of  96 | elapsed:    5.7s finished\n/home/nbuser/anaconda3_501/lib/python3.6/site-packages/sklearn/model_selection/_search.py:841: DeprecationWarning: The default of the `iid` parameter will change from True to False in version 0.22 and will be removed in 0.24. This will change numeric results when test-set sizes are unequal.\n  DeprecationWarning)\n/home/nbuser/anaconda3_501/lib/python3.6/site-packages/sklearn/linear_model/logistic.py:433: FutureWarning: Default solver will be changed to 'lbfgs' in 0.22. Specify a solver to silence this warning.\n  FutureWarning)\n",
          "name": "stderr"
        }
      ]
    },
    {
      "metadata": {
        "trusted": true
      },
      "cell_type": "code",
      "source": "#Instantiate classifier with above parameters\ndt = DecisionTreeClassifier(criterion = \"entropy\", max_depth=1, splitter = \"random\", class_weight = {1:1})",
      "execution_count": 422,
      "outputs": []
    },
    {
      "metadata": {
        "trusted": true
      },
      "cell_type": "code",
      "source": "#Fit classifier\n##Predict values\n##Calculate accuracy\n#2009\ndt2009 = dt.fit(x_2008,y_2008)\nyhat_2009 = dt2009.predict(x_2009)\ndts_2009 = accuracy_score(y_2009,yhat_2009)\n#2010\ndt2010 = dt.fit(x_2009,y_2009)\nyhat_2010 = dt2010.predict(x_2010)\ndts_2010 = accuracy_score(y_2010,yhat_2010)\n#2011\ndt2011 = dt.fit(x_2010,y_2010)\nyhat_2011 = dt2011.predict(x_2011)\ndts_2011 = accuracy_score(y_2011,yhat_2011)\n#2012\ndt2012 = dt.fit(x_2011,y_2011)\nyhat_2012= dt2012.predict(x_2012)\ndts_2012 = accuracy_score(y_2012,yhat_2012)\n#2013\ndt2013 = dt.fit(x_2012,y_2012)\nyhat_2013 = dt2013.predict(x_2013)\ndts_2013 = accuracy_score(y_2013,yhat_2013)\n#2014\ndt2014 = dt.fit(x_2013,y_2013)\nyhat_2014 = dt2014.predict(x_2014)\ndts_2014 = accuracy_score(y_2014,yhat_2014)\n#2015\ndt2015 = dt.fit(x_2013,y_2013)\nyhat_2015 = dt2015.predict(x_2015)\ndts_2015 = accuracy_score(y_2015,yhat_2015)",
      "execution_count": 423,
      "outputs": []
    },
    {
      "metadata": {
        "trusted": true
      },
      "cell_type": "code",
      "source": "dts = [dts_2009,dts_2010,dts_2011,dts_2012,dts_2013,dts_2014,dts_2015]",
      "execution_count": 424,
      "outputs": []
    },
    {
      "metadata": {},
      "cell_type": "markdown",
      "source": "# XGBClassifier"
    },
    {
      "metadata": {
        "trusted": true
      },
      "cell_type": "code",
      "source": "##Import XGBoost\n#!pip3 install xgboost",
      "execution_count": 346,
      "outputs": []
    },
    {
      "metadata": {
        "trusted": true
      },
      "cell_type": "code",
      "source": "from xgboost import XGBClassifier\n#Instantiate classiifier\ngbm = XGBClassifier()",
      "execution_count": 425,
      "outputs": []
    },
    {
      "metadata": {
        "trusted": true
      },
      "cell_type": "code",
      "source": "param = {\"max_depth\": [1,2,3],\n         \"learning_rate\": [0.1,0.01,0.001],\n         \"colsample_bytree\": [0.4,0.5],\n         \"n_estimators\": [70],\n         \"reg_lambda\": [4,5],\n         \"reg_alpha\": [1,2,3]}",
      "execution_count": 426,
      "outputs": []
    },
    {
      "metadata": {
        "trusted": true
      },
      "cell_type": "code",
      "source": "gridsearch = GridSearchCV(param_grid = param,estimator=gbm, scoring=\"roc_auc\", cv=4,verbose=1,n_jobs=3)",
      "execution_count": 349,
      "outputs": []
    },
    {
      "metadata": {
        "trusted": true
      },
      "cell_type": "code",
      "source": "gridsearch.fit(x_2008,y_2008)\nprint(\"Best roc_auc score is\", gridsearch.best_score_)\nprint(\"Best parameters are\", gridsearch.best_params_)",
      "execution_count": 350,
      "outputs": [
        {
          "output_type": "stream",
          "text": "Fitting 4 folds for each of 108 candidates, totalling 432 fits\n",
          "name": "stdout"
        },
        {
          "output_type": "stream",
          "text": "[Parallel(n_jobs=3)]: Using backend LokyBackend with 3 concurrent workers.\n[Parallel(n_jobs=3)]: Done  44 tasks      | elapsed:   29.3s\n[Parallel(n_jobs=3)]: Done 194 tasks      | elapsed:   46.6s\n[Parallel(n_jobs=3)]: Done 432 out of 432 | elapsed:  1.2min finished\n/home/nbuser/anaconda3_501/lib/python3.6/site-packages/sklearn/model_selection/_search.py:841: DeprecationWarning: The default of the `iid` parameter will change from True to False in version 0.22 and will be removed in 0.24. This will change numeric results when test-set sizes are unequal.\n  DeprecationWarning)\n",
          "name": "stderr"
        },
        {
          "output_type": "stream",
          "text": "Best roc_auc score is 0.5281609195402299\nBest parameters are {'colsample_bytree': 0.5, 'learning_rate': 0.1, 'max_depth': 1, 'n_estimators': 70, 'reg_alpha': 1, 'reg_lambda': 4}\n",
          "name": "stdout"
        }
      ]
    },
    {
      "metadata": {
        "trusted": true
      },
      "cell_type": "code",
      "source": "gbm = XGBClassifier(colsample_bytree=0.5,learning_rate=0.1,max_depth=1,n_estimators=70,reg_aplha=1,reg_lambda=4,objective=\"binary:hinge\",verbose=1,scale_pos_weight=1)",
      "execution_count": 427,
      "outputs": []
    },
    {
      "metadata": {
        "trusted": true
      },
      "cell_type": "code",
      "source": "##Fit data\n##Predict values\n##Calculate score\n#2009\ngbm_2009 = gbm.fit(x_2008,y_2008)\nyhat_2009 = gbm_2009.predict(x_2009)\ngbms_2009 = accuracy_score(y_2009,yhat_2009)\n#2010\ngbm_2010 = gbm.fit(x_2009,y_2009)\nyhat_2010 = gbm_2010.predict(x_2010)\ngbms_2010 = accuracy_score(y_2010,yhat_2010)\n#2011\ngbm_2011 = gbm.fit(x_2010,y_2010)\nyhat_2011 = gbm_2011.predict(x_2011)\ngbms_2011 = accuracy_score(y_2011,yhat_2011)\n#2012\ngbm_2012 = gbm.fit(x_2011,y_2011)\nyhat_2012 = gbm_2012.predict(x_2012)\ngbms_2012 = accuracy_score(y_2012,yhat_2012)\n#2013\ngbm_2013 = gbm.fit(x_2012,y_2012)\nyhat_2013 = gbm_2013.predict(x_2013)\ngbms_2013 = accuracy_score(y_2013,yhat_2013)\n#2014\ngbm_2014 = gbm.fit(x_2012,y_2012)\nyhat_2014 = gbm_2014.predict(x_2014)\ngbms_2014 = accuracy_score(y_2014,yhat_2014)\n#2015\ngbm_2015 = gbm.fit(x_2013,y_2013)\nyhat_2015 = gbm_2015.predict(x_2015)\ngbms_2015 = accuracy_score(y_2015,yhat_2015)",
      "execution_count": 428,
      "outputs": [
        {
          "output_type": "stream",
          "text": "[22:59:06] WARNING: /workspace/src/learner.cc:480: \nParameters: { reg_aplha, scale_pos_weight, verbose } might not be used.\n\n  This may not be accurate due to some parameters are only used in language bindings but\n  passed down to XGBoost core.  Or some parameters are not used but slip through this\n  verification. Please open an issue if you find above cases.\n\n\n[22:59:06] WARNING: /workspace/src/learner.cc:480: \nParameters: { reg_aplha, scale_pos_weight, verbose } might not be used.\n\n  This may not be accurate due to some parameters are only used in language bindings but\n  passed down to XGBoost core.  Or some parameters are not used but slip through this\n  verification. Please open an issue if you find above cases.\n\n\n[22:59:07] WARNING: /workspace/src/learner.cc:480: \nParameters: { reg_aplha, scale_pos_weight, verbose } might not be used.\n\n  This may not be accurate due to some parameters are only used in language bindings but\n  passed down to XGBoost core.  Or some parameters are not used but slip through this\n  verification. Please open an issue if you find above cases.\n\n\n[22:59:08] WARNING: /workspace/src/learner.cc:480: \nParameters: { reg_aplha, scale_pos_weight, verbose } might not be used.\n\n  This may not be accurate due to some parameters are only used in language bindings but\n  passed down to XGBoost core.  Or some parameters are not used but slip through this\n  verification. Please open an issue if you find above cases.\n\n\n[22:59:09] WARNING: /workspace/src/learner.cc:480: \nParameters: { reg_aplha, scale_pos_weight, verbose } might not be used.\n\n  This may not be accurate due to some parameters are only used in language bindings but\n  passed down to XGBoost core.  Or some parameters are not used but slip through this\n  verification. Please open an issue if you find above cases.\n\n\n[22:59:10] WARNING: /workspace/src/learner.cc:480: \nParameters: { reg_aplha, scale_pos_weight, verbose } might not be used.\n\n  This may not be accurate due to some parameters are only used in language bindings but\n  passed down to XGBoost core.  Or some parameters are not used but slip through this\n  verification. Please open an issue if you find above cases.\n\n\n[22:59:10] WARNING: /workspace/src/learner.cc:480: \nParameters: { reg_aplha, scale_pos_weight, verbose } might not be used.\n\n  This may not be accurate due to some parameters are only used in language bindings but\n  passed down to XGBoost core.  Or some parameters are not used but slip through this\n  verification. Please open an issue if you find above cases.\n\n\n",
          "name": "stdout"
        }
      ]
    },
    {
      "metadata": {
        "trusted": true
      },
      "cell_type": "code",
      "source": "import matplotlib.pyplot as plt\nimport itertools\ndef plot_confusion_matrix(cm, classes,\n                          normalize=False,\n                          title='Confusion matrix',\n                          cmap=plt.cm.Blues):\n    \"\"\"\n    This function prints and plots the confusion matrix.\n    Normalization can be applied by setting `normalize=True`.\n    \"\"\"\n    if normalize:\n        cm = cm.astype('float') / cm.sum(axis=1)[:, np.newaxis]\n        print(\"Normalized confusion matrix\")\n    else:\n        print('Confusion matrix, without normalization')\n\n    print(cm)\n\n    plt.imshow(cm, interpolation='nearest', cmap=cmap)\n    plt.title(title)\n    plt.colorbar()\n    tick_marks = np.arange(len(classes))\n    plt.xticks(tick_marks, classes, rotation=45)\n    plt.yticks(tick_marks, classes)\n\n    fmt = '.2f' if normalize else 'd'\n    thresh = cm.max() / 2.\n    for i, j in itertools.product(range(cm.shape[0]), range(cm.shape[1])):\n        plt.text(j, i, format(cm[i, j], fmt),\n                 horizontalalignment=\"center\",\n                 color=\"white\" if cm[i, j] > thresh else \"black\")\n\n    plt.tight_layout()\n    plt.ylabel('True label')\n    plt.xlabel('Predicted label')\n# Compute confusion matrix\ncnf_matrix = confusion_matrix(y_2014, yhat_2014, labels=[1,0])\nnp.set_printoptions(precision=2)\n\n\n# Plot non-normalized confusion matrix\nplt.figure()\nplot_confusion_matrix(cnf_matrix, classes=['team1_win=1','team2_win=0'],normalize= False,  title='Confusion matrix')",
      "execution_count": 429,
      "outputs": [
        {
          "output_type": "stream",
          "text": "Confusion matrix, without normalization\n[[ 2 21]\n [ 5 32]]\n",
          "name": "stdout"
        },
        {
          "output_type": "display_data",
          "data": {
            "image/png": "[encoded data removed]",
            "text/plain": "<Figure size 432x288 with 2 Axes>"
          },
          "metadata": {
            "needs_background": "light"
          }
        }
      ]
    },
    {
      "metadata": {
        "trusted": true
      },
      "cell_type": "code",
      "source": "gbms = [gbms_2009,gbms_2010,gbms_2011,gbms_2012,gbms_2013,gbms_2014,gbms_2015]",
      "execution_count": 430,
      "outputs": []
    },
    {
      "metadata": {},
      "cell_type": "markdown",
      "source": "# Results"
    },
    {
      "metadata": {
        "trusted": true
      },
      "cell_type": "code",
      "source": "seasons = list(range(2009,2016,1))\nresults = pd.DataFrame(seasons)\nresults.reset_index\nresults.rename(columns={0:\"Season\"},inplace=True)\nresults[\"Random Forest Classifer Accuracy\"] = rfscores\nresults[\"Linear Regression Accuracy\"] = lrs\nresults[\"Decision Tree Accuracy\"] = dts\nresults[\"XGBClassifier Accuracy\"] = gbms\nresults.set_index(\"Season\",inplace=True)\nresults",
      "execution_count": 431,
      "outputs": [
        {
          "output_type": "execute_result",
          "execution_count": 431,
          "data": {
            "text/html": "<div>\n<style scoped>\n    .dataframe tbody tr th:only-of-type {\n        vertical-align: middle;\n    }\n\n    .dataframe tbody tr th {\n        vertical-align: top;\n    }\n\n    .dataframe thead th {\n        text-align: right;\n    }\n</style>\n<table border=\"1\" class=\"dataframe\">\n  <thead>\n    <tr style=\"text-align: right;\">\n      <th></th>\n      <th>Random Forest Classifer Accuracy</th>\n      <th>Linear Regression Accuracy</th>\n      <th>Decision Tree Accuracy</th>\n      <th>XGBClassifier Accuracy</th>\n    </tr>\n    <tr>\n      <th>Season</th>\n      <th></th>\n      <th></th>\n      <th></th>\n      <th></th>\n    </tr>\n  </thead>\n  <tbody>\n    <tr>\n      <th>2009</th>\n      <td>0.508772</td>\n      <td>0.456140</td>\n      <td>0.526316</td>\n      <td>0.526316</td>\n    </tr>\n    <tr>\n      <th>2010</th>\n      <td>0.433333</td>\n      <td>0.516667</td>\n      <td>0.533333</td>\n      <td>0.583333</td>\n    </tr>\n    <tr>\n      <th>2011</th>\n      <td>0.555556</td>\n      <td>0.430556</td>\n      <td>0.430556</td>\n      <td>0.430556</td>\n    </tr>\n    <tr>\n      <th>2012</th>\n      <td>0.472973</td>\n      <td>0.432432</td>\n      <td>0.540541</td>\n      <td>0.540541</td>\n    </tr>\n    <tr>\n      <th>2013</th>\n      <td>0.460526</td>\n      <td>0.552632</td>\n      <td>0.605263</td>\n      <td>0.565789</td>\n    </tr>\n    <tr>\n      <th>2014</th>\n      <td>0.533333</td>\n      <td>0.583333</td>\n      <td>0.616667</td>\n      <td>0.566667</td>\n    </tr>\n    <tr>\n      <th>2015</th>\n      <td>0.508772</td>\n      <td>0.578947</td>\n      <td>0.438596</td>\n      <td>0.578947</td>\n    </tr>\n  </tbody>\n</table>\n</div>",
            "text/plain": "        Random Forest Classifer Accuracy  Linear Regression Accuracy  \\\nSeason                                                                 \n2009                            0.508772                    0.456140   \n2010                            0.433333                    0.516667   \n2011                            0.555556                    0.430556   \n2012                            0.472973                    0.432432   \n2013                            0.460526                    0.552632   \n2014                            0.533333                    0.583333   \n2015                            0.508772                    0.578947   \n\n        Decision Tree Accuracy  XGBClassifier Accuracy  \nSeason                                                  \n2009                  0.526316                0.526316  \n2010                  0.533333                0.583333  \n2011                  0.430556                0.430556  \n2012                  0.540541                0.540541  \n2013                  0.605263                0.565789  \n2014                  0.616667                0.566667  \n2015                  0.438596                0.578947  "
          },
          "metadata": {}
        }
      ]
    },
    {
      "metadata": {
        "trusted": true
      },
      "cell_type": "code",
      "source": "results.plot(kind=\"line\",color=[\"blue\",\"red\",\"black\",\"orange\"],figsize=(15,5))\nplt.grid()\nplt.ylabel(\"Accuracy\")",
      "execution_count": 432,
      "outputs": [
        {
          "output_type": "execute_result",
          "execution_count": 432,
          "data": {
            "text/plain": "Text(0, 0.5, 'Accuracy')"
          },
          "metadata": {}
        },
        {
          "output_type": "display_data",
          "data": {
            "image/png": "[encoded data removed]",
            "text/plain": "<Figure size 1080x360 with 1 Axes>"
          },
          "metadata": {
            "needs_background": "light"
          }
        }
      ]
    },
    {
      "metadata": {
        "trusted": true
      },
      "cell_type": "code",
      "source": "results.describe()",
      "execution_count": 433,
      "outputs": [
        {
          "output_type": "execute_result",
          "execution_count": 433,
          "data": {
            "text/html": "<div>\n<style scoped>\n    .dataframe tbody tr th:only-of-type {\n        vertical-align: middle;\n    }\n\n    .dataframe tbody tr th {\n        vertical-align: top;\n    }\n\n    .dataframe thead th {\n        text-align: right;\n    }\n</style>\n<table border=\"1\" class=\"dataframe\">\n  <thead>\n    <tr style=\"text-align: right;\">\n      <th></th>\n      <th>Random Forest Classifer Accuracy</th>\n      <th>Linear Regression Accuracy</th>\n      <th>Decision Tree Accuracy</th>\n      <th>XGBClassifier Accuracy</th>\n    </tr>\n  </thead>\n  <tbody>\n    <tr>\n      <th>count</th>\n      <td>7.000000</td>\n      <td>7.000000</td>\n      <td>7.000000</td>\n      <td>7.000000</td>\n    </tr>\n    <tr>\n      <th>mean</th>\n      <td>0.496181</td>\n      <td>0.507244</td>\n      <td>0.527325</td>\n      <td>0.541736</td>\n    </tr>\n    <tr>\n      <th>std</th>\n      <td>0.042783</td>\n      <td>0.067292</td>\n      <td>0.072463</td>\n      <td>0.053097</td>\n    </tr>\n    <tr>\n      <th>min</th>\n      <td>0.433333</td>\n      <td>0.430556</td>\n      <td>0.430556</td>\n      <td>0.430556</td>\n    </tr>\n    <tr>\n      <th>25%</th>\n      <td>0.466750</td>\n      <td>0.444286</td>\n      <td>0.482456</td>\n      <td>0.533428</td>\n    </tr>\n    <tr>\n      <th>50%</th>\n      <td>0.508772</td>\n      <td>0.516667</td>\n      <td>0.533333</td>\n      <td>0.565789</td>\n    </tr>\n    <tr>\n      <th>75%</th>\n      <td>0.521053</td>\n      <td>0.565789</td>\n      <td>0.572902</td>\n      <td>0.572807</td>\n    </tr>\n    <tr>\n      <th>max</th>\n      <td>0.555556</td>\n      <td>0.583333</td>\n      <td>0.616667</td>\n      <td>0.583333</td>\n    </tr>\n  </tbody>\n</table>\n</div>",
            "text/plain": "       Random Forest Classifer Accuracy  Linear Regression Accuracy  \\\ncount                          7.000000                    7.000000   \nmean                           0.496181                    0.507244   \nstd                            0.042783                    0.067292   \nmin                            0.433333                    0.430556   \n25%                            0.466750                    0.444286   \n50%                            0.508772                    0.516667   \n75%                            0.521053                    0.565789   \nmax                            0.555556                    0.583333   \n\n       Decision Tree Accuracy  XGBClassifier Accuracy  \ncount                7.000000                7.000000  \nmean                 0.527325                0.541736  \nstd                  0.072463                0.053097  \nmin                  0.430556                0.430556  \n25%                  0.482456                0.533428  \n50%                  0.533333                0.565789  \n75%                  0.572902                0.572807  \nmax                  0.616667                0.583333  "
          },
          "metadata": {}
        }
      ]
    },
    {
      "metadata": {
        "trusted": true
      },
      "cell_type": "code",
      "source": "hw_2009 = (y_2009.loc[y_2009==1].count())/len(y_2009)    \nhw_2010 = y_2010.loc[y_2010==1].count()/len(y_2010)\nhw_2011 = y_2011.loc[y_2011==1].count()/len(y_2011)\nhw_2012 = y_2012.loc[y_2012==1].count()/len(y_2012)\nhw_2013 = y_2013.loc[y_2013==1].count()/len(y_2013)\nhw_2014 = y_2014.loc[y_2014==1].count()/len(y_2014)\nhw_2015 = y_2015.loc[y_2015==1].count()/len(y_2015)\nhw = ([hw_2009,hw_2010,hw_2011,hw_2012,hw_2013,hw_2014,hw_2015])\naw_2009 = y_2009.loc[y_2009==0].count()    \naw_2010 = y_2010.loc[y_2010==0].count()\naw_2011 = y_2011.loc[y_2011==0].count()\naw_2012 = y_2012.loc[y_2012==0].count()\naw_2013 = y_2013.loc[y_2013==0].count()\naw_2014 = y_2014.loc[y_2014==0].count()\naw_2015 = y_2015.loc[y_2015==0].count()\naw = ([aw_2009,aw_2010,aw_2011,aw_2012,aw_2013,aw_2014,aw_2015])",
      "execution_count": 358,
      "outputs": []
    },
    {
      "metadata": {
        "trusted": true
      },
      "cell_type": "code",
      "source": "homewins = pd.DataFrame(hw,seasons)\nhomewins.reset_index(inplace=True)\nhomewins.rename(columns={0:\"Home Wins\",\"index\":\"Seasons\"},inplace=True)\nhomewins.set_index(\"Seasons\",inplace=True)\nawaywins = pd.DataFrame(aw,seasons)\nawaywins.reset_index(inplace=True)\nawaywins.rename(columns={0:\"Away Wins\",\"index\":\"Seasons\"},inplace=True)\nawaywins.set_index(\"Seasons\",inplace=True)",
      "execution_count": 359,
      "outputs": []
    },
    {
      "metadata": {
        "trusted": true
      },
      "cell_type": "code",
      "source": "homewins.plot(kind=\"line\")\nplt.grid()",
      "execution_count": null,
      "outputs": []
    },
    {
      "metadata": {},
      "cell_type": "markdown",
      "source": "# 2019 Prediction"
    },
    {
      "metadata": {
        "trusted": true
      },
      "cell_type": "code",
      "source": "final_train = final.drop(final.loc[final[\"season\"]==2019].index)\nfinal_test = final[final[\"season\"]==2019]\nx_train = final_train.drop([\"season\",\"winning_team\"],axis=1)\nx_test = final_test.drop([\"season\",\"winning_team\"],axis=1)\ny_train = final_train[\"winning_team\"]\ny_test = final_test[\"winning_team\"]",
      "execution_count": null,
      "outputs": []
    },
    {
      "metadata": {},
      "cell_type": "markdown",
      "source": "# Random Forest Classifier"
    },
    {
      "metadata": {
        "trusted": true
      },
      "cell_type": "code",
      "source": "params = {\"max_depth\": [1,2,3],\n          \"n_estimators\": [5,10,15,20,70],\n          \"criterion\": [\"gini\",\"entropy\"],\n          \"class_weight\": [{1:w} for w in [1.0,1.1,1.2,1.3]]}",
      "execution_count": 434,
      "outputs": []
    },
    {
      "metadata": {
        "trusted": true
      },
      "cell_type": "code",
      "source": "gridsearch = GridSearchCV(param_grid = params, cv = 3, estimator = rf, scoring = \"roc_auc\",verbose=1,n_jobs=3)",
      "execution_count": 435,
      "outputs": []
    },
    {
      "metadata": {
        "trusted": true
      },
      "cell_type": "code",
      "source": "gridsearch.fit(x_train,y_train)\nprint(\"best parameters are:\", gridsearch.best_params_)\nprint(\"best score is:\", gridsearch.best_score_)",
      "execution_count": 436,
      "outputs": [
        {
          "output_type": "stream",
          "text": "Fitting 3 folds for each of 120 candidates, totalling 360 fits\n",
          "name": "stdout"
        },
        {
          "output_type": "stream",
          "text": "[Parallel(n_jobs=3)]: Using backend LokyBackend with 3 concurrent workers.\n[Parallel(n_jobs=3)]: Done  44 tasks      | elapsed:   10.0s\n[Parallel(n_jobs=3)]: Done 194 tasks      | elapsed:   39.0s\n",
          "name": "stderr"
        },
        {
          "output_type": "stream",
          "text": "best parameters are: {'class_weight': {1: 1.1}, 'criterion': 'entropy', 'max_depth': 3, 'n_estimators': 15}\nbest score is: 0.5695159499293359\n",
          "name": "stdout"
        },
        {
          "output_type": "stream",
          "text": "[Parallel(n_jobs=3)]: Done 360 out of 360 | elapsed:  1.2min finished\n",
          "name": "stderr"
        }
      ]
    },
    {
      "metadata": {
        "trusted": true
      },
      "cell_type": "code",
      "source": "##Instantiate rf with parameters from above \nrf = RandomForestClassifier(criterion = \"entropy\", max_depth = 3, n_estimators = 15,random_state=123,class_weight = {1:1.1})",
      "execution_count": 439,
      "outputs": []
    },
    {
      "metadata": {
        "trusted": true
      },
      "cell_type": "code",
      "source": "rf.fit(x_train,y_train)\nyhat = rf.predict(x_test)\nreport_RF = accuracy_score(y_test,yhat)",
      "execution_count": 440,
      "outputs": []
    },
    {
      "metadata": {},
      "cell_type": "markdown",
      "source": "# Logistic Regression"
    },
    {
      "metadata": {
        "trusted": true
      },
      "cell_type": "code",
      "source": "params = {\"penalty\": [\"l1\", \"l2\"],\n          \"C\": [0.5,1,1,5],\n          \"class_weight\": [{1:w} for w in [1.0,1.1,1.2,1.3]]}",
      "execution_count": 441,
      "outputs": []
    },
    {
      "metadata": {
        "trusted": true
      },
      "cell_type": "code",
      "source": "gridsearch = GridSearchCV(param_grid = params, estimator = lr, cv = 3, scoring = \"roc_auc\", verbose=1, n_jobs = 3)",
      "execution_count": 442,
      "outputs": []
    },
    {
      "metadata": {
        "trusted": true
      },
      "cell_type": "code",
      "source": "gridsearch.fit(x_train,y_train)\nprint(\"best parameters are:\", gridsearch.best_params_)\nprint(\"best score is:\", gridsearch.best_score_)",
      "execution_count": 443,
      "outputs": [
        {
          "output_type": "stream",
          "text": "Fitting 3 folds for each of 32 candidates, totalling 96 fits\n",
          "name": "stdout"
        },
        {
          "output_type": "stream",
          "text": "[Parallel(n_jobs=3)]: Using backend LokyBackend with 3 concurrent workers.\n[Parallel(n_jobs=3)]: Done  44 tasks      | elapsed:    5.4s\n",
          "name": "stderr"
        },
        {
          "output_type": "stream",
          "text": "best parameters are: {'C': 5, 'class_weight': {1: 1.0}, 'penalty': 'l2'}\nbest score is: 0.5611750454270139\n",
          "name": "stdout"
        },
        {
          "output_type": "stream",
          "text": "[Parallel(n_jobs=3)]: Done  96 out of  96 | elapsed:   11.6s finished\n/home/nbuser/anaconda3_501/lib/python3.6/site-packages/sklearn/linear_model/logistic.py:433: FutureWarning: Default solver will be changed to 'lbfgs' in 0.22. Specify a solver to silence this warning.\n  FutureWarning)\n",
          "name": "stderr"
        }
      ]
    },
    {
      "metadata": {
        "trusted": true
      },
      "cell_type": "code",
      "source": "##Instantiate regressor with above parameters\nlr = LogisticRegression(C = 5, penalty = 'l2')",
      "execution_count": 444,
      "outputs": []
    },
    {
      "metadata": {
        "trusted": true
      },
      "cell_type": "code",
      "source": "lr.fit(x_train,y_train)\nyhat = lr.predict(x_test)\nreport_lr = accuracy_score(y_test,yhat)",
      "execution_count": 445,
      "outputs": [
        {
          "output_type": "stream",
          "text": "/home/nbuser/anaconda3_501/lib/python3.6/site-packages/sklearn/linear_model/logistic.py:433: FutureWarning: Default solver will be changed to 'lbfgs' in 0.22. Specify a solver to silence this warning.\n  FutureWarning)\n",
          "name": "stderr"
        }
      ]
    },
    {
      "metadata": {},
      "cell_type": "markdown",
      "source": "# Decision Tree"
    },
    {
      "metadata": {
        "trusted": true
      },
      "cell_type": "code",
      "source": "params = params = {\"max_depth\": [1,2,3,4],\n          \"criterion\": [\"entropy\",\"gini\"],\n          \"splitter\": [\"best\",\"random\"],\n          \"class_weight\": [{1:w} for w in [1.0,1.1,1.2,1.3]]}",
      "execution_count": 446,
      "outputs": []
    },
    {
      "metadata": {
        "trusted": true
      },
      "cell_type": "code",
      "source": "gridsearch = gridsearch = GridSearchCV(param_grid = params, estimator = dt, cv = 3, scoring = \"roc_auc\", verbose=1, n_jobs = 3)",
      "execution_count": 447,
      "outputs": []
    },
    {
      "metadata": {
        "trusted": true
      },
      "cell_type": "code",
      "source": "gridsearch.fit(x_train,y_train)\nprint(\"best parameters are:\", gridsearch.best_params_)\nprint(\"best score is:\", gridsearch.best_score_)",
      "execution_count": 448,
      "outputs": [
        {
          "output_type": "stream",
          "text": "Fitting 3 folds for each of 64 candidates, totalling 192 fits\n",
          "name": "stdout"
        },
        {
          "output_type": "stream",
          "text": "[Parallel(n_jobs=3)]: Using backend LokyBackend with 3 concurrent workers.\n[Parallel(n_jobs=3)]: Done  82 tasks      | elapsed:    4.5s\n",
          "name": "stderr"
        },
        {
          "output_type": "stream",
          "text": "best parameters are: {'class_weight': {1: 1.3}, 'criterion': 'gini', 'max_depth': 4, 'splitter': 'best'}\nbest score is: 0.5156344639612356\n",
          "name": "stdout"
        },
        {
          "output_type": "stream",
          "text": "[Parallel(n_jobs=3)]: Done 192 out of 192 | elapsed:   10.7s finished\n",
          "name": "stderr"
        }
      ]
    },
    {
      "metadata": {
        "trusted": true
      },
      "cell_type": "code",
      "source": "#Instantiate classifier with above parameters\ndt = DecisionTreeClassifier(criterion = \"gini\", max_depth=4, splitter = \"best\",class_weight = {1:1.3})",
      "execution_count": 449,
      "outputs": []
    },
    {
      "metadata": {
        "trusted": true
      },
      "cell_type": "code",
      "source": "dt.fit(x_train,y_train)\nyhat = dt.predict(x_test)\nreport_dt = accuracy_score(y_test,yhat)",
      "execution_count": 450,
      "outputs": []
    },
    {
      "metadata": {},
      "cell_type": "markdown",
      "source": "# XGBClassifier"
    },
    {
      "metadata": {
        "trusted": true
      },
      "cell_type": "code",
      "source": "param = {\"max_depth\": [1,2,3],\n         \"learning_rate\": [0.1,0.01,0.001],\n         \"colsample_bytree\": [0.4,0.5],\n         \"n_estimators\": [70],\n         \"reg_lambda\": [4,5],\n         \"reg_alpha\": [1,2,3]}",
      "execution_count": 451,
      "outputs": []
    },
    {
      "metadata": {
        "trusted": true
      },
      "cell_type": "code",
      "source": "gridsearch = GridSearchCV(param_grid = param,estimator=gbm, scoring=\"roc_auc\", cv=4,verbose=1,n_jobs=3)",
      "execution_count": 452,
      "outputs": []
    },
    {
      "metadata": {
        "trusted": true
      },
      "cell_type": "code",
      "source": "gridsearch.fit(x_train,y_train)\nprint(\"Best roc_auc score is\", gridsearch.best_score_)\nprint(\"Best parameters are\", gridsearch.best_params_)",
      "execution_count": 453,
      "outputs": [
        {
          "output_type": "stream",
          "text": "Fitting 4 folds for each of 108 candidates, totalling 432 fits\n",
          "name": "stdout"
        },
        {
          "output_type": "stream",
          "text": "[Parallel(n_jobs=3)]: Using backend LokyBackend with 3 concurrent workers.\n[Parallel(n_jobs=3)]: Done  44 tasks      | elapsed:   15.6s\n[Parallel(n_jobs=3)]: Done 194 tasks      | elapsed:   51.9s\n[Parallel(n_jobs=3)]: Done 432 out of 432 | elapsed:  1.9min finished\n",
          "name": "stderr"
        },
        {
          "output_type": "stream",
          "text": "[23:06:46] WARNING: /workspace/src/learner.cc:480: \nParameters: { reg_aplha, scale_pos_weight, verbose } might not be used.\n\n  This may not be accurate due to some parameters are only used in language bindings but\n  passed down to XGBoost core.  Or some parameters are not used but slip through this\n  verification. Please open an issue if you find above cases.\n\n\nBest roc_auc score is 0.5677472137998454\nBest parameters are {'colsample_bytree': 0.5, 'learning_rate': 0.1, 'max_depth': 3, 'n_estimators': 70, 'reg_alpha': 2, 'reg_lambda': 5}\n",
          "name": "stdout"
        }
      ]
    },
    {
      "metadata": {
        "trusted": true
      },
      "cell_type": "code",
      "source": "gbm = XGBClassifier(colsample_bytree=0.5,learning_rate=0.1,max_depth=3,n_estimators=70,reg_aplha=2,reg_lambda=5,objective=\"binary:hinge\",verbose=1)",
      "execution_count": 454,
      "outputs": []
    },
    {
      "metadata": {
        "trusted": true
      },
      "cell_type": "code",
      "source": "gbm.fit(x_train,y_train)\nyhat = gbm.predict(x_test)\nreport_xgb = accuracy_score(y_test,yhat)",
      "execution_count": 455,
      "outputs": [
        {
          "output_type": "stream",
          "text": "[23:07:42] WARNING: /workspace/src/learner.cc:480: \nParameters: { reg_aplha, verbose } might not be used.\n\n  This may not be accurate due to some parameters are only used in language bindings but\n  passed down to XGBoost core.  Or some parameters are not used but slip through this\n  verification. Please open an issue if you find above cases.\n\n\n",
          "name": "stdout"
        }
      ]
    },
    {
      "metadata": {
        "trusted": true
      },
      "cell_type": "code",
      "source": "scores = [report_RF,report_lr,report_dt,report_xgb]\n\nfinal_results = pd.DataFrame(scores).transpose()\nfinal_results.columns=[\"Random Forest\", \"Logistic Regression\", \"Decision Tree Classifier\", \"XGBClassifer\"]\nfinal_results.head()",
      "execution_count": 456,
      "outputs": [
        {
          "output_type": "execute_result",
          "execution_count": 456,
          "data": {
            "text/html": "<div>\n<style scoped>\n    .dataframe tbody tr th:only-of-type {\n        vertical-align: middle;\n    }\n\n    .dataframe tbody tr th {\n        vertical-align: top;\n    }\n\n    .dataframe thead th {\n        text-align: right;\n    }\n</style>\n<table border=\"1\" class=\"dataframe\">\n  <thead>\n    <tr style=\"text-align: right;\">\n      <th></th>\n      <th>Random Forest</th>\n      <th>Logistic Regression</th>\n      <th>Decision Tree Classifier</th>\n      <th>XGBClassifer</th>\n    </tr>\n  </thead>\n  <tbody>\n    <tr>\n      <th>0</th>\n      <td>0.644068</td>\n      <td>0.59322</td>\n      <td>0.627119</td>\n      <td>0.627119</td>\n    </tr>\n  </tbody>\n</table>\n</div>",
            "text/plain": "   Random Forest  Logistic Regression  Decision Tree Classifier  XGBClassifer\n0       0.644068              0.59322                  0.627119      0.627119"
          },
          "metadata": {}
        }
      ]
    },
    {
      "metadata": {
        "trusted": true
      },
      "cell_type": "code",
      "source": "import matplotlib.pyplot as plt\nimport itertools\ndef plot_confusion_matrix(cm, classes,\n                          normalize=False,\n                          title='Confusion matrix',\n                          cmap=plt.cm.Blues):\n    \"\"\"\n    This function prints and plots the confusion matrix.\n    Normalization can be applied by setting `normalize=True`.\n    \"\"\"\n    if normalize:\n        cm = cm.astype('float') / cm.sum(axis=1)[:, np.newaxis]\n        print(\"Normalized confusion matrix\")\n    else:\n        print('Confusion matrix, without normalization')\n\n    print(cm)\n\n    plt.imshow(cm, interpolation='nearest', cmap=cmap)\n    plt.title(title)\n    plt.colorbar()\n    tick_marks = np.arange(len(classes))\n    plt.xticks(tick_marks, classes, rotation=45)\n    plt.yticks(tick_marks, classes)\n\n    fmt = '.2f' if normalize else 'd'\n    thresh = cm.max() / 2.\n    for i, j in itertools.product(range(cm.shape[0]), range(cm.shape[1])):\n        plt.text(j, i, format(cm[i, j], fmt),\n                 horizontalalignment=\"center\",\n                 color=\"white\" if cm[i, j] > thresh else \"black\")\n\n    plt.tight_layout()\n    plt.ylabel('True label')\n    plt.xlabel('Predicted label')\n# Compute confusion matrix\ncnf_matrix = confusion_matrix(y_test, yhat, labels=[1,0])\nnp.set_printoptions(precision=2)\n\n\n# Plot non-normalized confusion matrix\nplt.figure()\nplot_confusion_matrix(cnf_matrix, classes=['team1_win=1','team2_win=0'],normalize= False,  title='Confusion matrix')",
      "execution_count": 457,
      "outputs": [
        {
          "output_type": "stream",
          "text": "Confusion matrix, without normalization\n[[ 6 17]\n [ 5 31]]\n",
          "name": "stdout"
        },
        {
          "output_type": "display_data",
          "data": {
            "image/png": "[encoded data removed]",
            "text/plain": "<Figure size 432x288 with 2 Axes>"
          },
          "metadata": {
            "needs_background": "light"
          }
        }
      ]
    },
    {
      "metadata": {
        "trusted": true
      },
      "cell_type": "code",
      "source": "",
      "execution_count": null,
      "outputs": []
    }
  ],
  "metadata": {
    "kernelspec": {
      "name": "python36",
      "display_name": "Python 3.6",
      "language": "python"
    },
    "language_info": {
      "mimetype": "text/x-python",
      "nbconvert_exporter": "python",
      "name": "python",
      "pygments_lexer": "ipython3",
      "version": "3.6.6",
      "file_extension": ".py",
      "codemirror_mode": {
        "version": 3,
        "name": "ipython"
      }
    }
  },
  "nbformat": 4,
  "nbformat_minor": 2
}