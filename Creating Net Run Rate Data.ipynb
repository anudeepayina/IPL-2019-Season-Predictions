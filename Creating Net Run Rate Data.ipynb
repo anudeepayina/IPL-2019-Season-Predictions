{
  "cells": [
    {
      "metadata": {
        "trusted": true
      },
      "cell_type": "code",
      "source": "import pandas as pd",
      "execution_count": 1,
      "outputs": []
    },
    {
      "metadata": {
        "trusted": true
      },
      "cell_type": "code",
      "source": "#Import data file\ndata = pd.read_csv(\"Copy of deliveries.csv\")",
      "execution_count": 2,
      "outputs": []
    },
    {
      "metadata": {
        "trusted": true
      },
      "cell_type": "code",
      "source": "data = data[[\"match_id\",\"inning\",\"batting_team\",\"bowling_team\",\"total_runs\",\"over\"]]",
      "execution_count": 3,
      "outputs": []
    },
    {
      "metadata": {
        "trusted": true
      },
      "cell_type": "code",
      "source": "data.head()",
      "execution_count": 4,
      "outputs": [
        {
          "output_type": "execute_result",
          "execution_count": 4,
          "data": {
            "text/html": "<div>\n<style scoped>\n    .dataframe tbody tr th:only-of-type {\n        vertical-align: middle;\n    }\n\n    .dataframe tbody tr th {\n        vertical-align: top;\n    }\n\n    .dataframe thead th {\n        text-align: right;\n    }\n</style>\n<table border=\"1\" class=\"dataframe\">\n  <thead>\n    <tr style=\"text-align: right;\">\n      <th></th>\n      <th>match_id</th>\n      <th>inning</th>\n      <th>batting_team</th>\n      <th>bowling_team</th>\n      <th>total_runs</th>\n      <th>over</th>\n    </tr>\n  </thead>\n  <tbody>\n    <tr>\n      <th>0</th>\n      <td>1</td>\n      <td>1</td>\n      <td>Sunrisers Hyderabad</td>\n      <td>Royal Challengers Bangalore</td>\n      <td>0</td>\n      <td>1</td>\n    </tr>\n    <tr>\n      <th>1</th>\n      <td>1</td>\n      <td>1</td>\n      <td>Sunrisers Hyderabad</td>\n      <td>Royal Challengers Bangalore</td>\n      <td>0</td>\n      <td>1</td>\n    </tr>\n    <tr>\n      <th>2</th>\n      <td>1</td>\n      <td>1</td>\n      <td>Sunrisers Hyderabad</td>\n      <td>Royal Challengers Bangalore</td>\n      <td>4</td>\n      <td>1</td>\n    </tr>\n    <tr>\n      <th>3</th>\n      <td>1</td>\n      <td>1</td>\n      <td>Sunrisers Hyderabad</td>\n      <td>Royal Challengers Bangalore</td>\n      <td>0</td>\n      <td>1</td>\n    </tr>\n    <tr>\n      <th>4</th>\n      <td>1</td>\n      <td>1</td>\n      <td>Sunrisers Hyderabad</td>\n      <td>Royal Challengers Bangalore</td>\n      <td>2</td>\n      <td>1</td>\n    </tr>\n  </tbody>\n</table>\n</div>",
            "text/plain": "   match_id  inning         batting_team                 bowling_team  \\\n0         1       1  Sunrisers Hyderabad  Royal Challengers Bangalore   \n1         1       1  Sunrisers Hyderabad  Royal Challengers Bangalore   \n2         1       1  Sunrisers Hyderabad  Royal Challengers Bangalore   \n3         1       1  Sunrisers Hyderabad  Royal Challengers Bangalore   \n4         1       1  Sunrisers Hyderabad  Royal Challengers Bangalore   \n\n   total_runs  over  \n0           0     1  \n1           0     1  \n2           4     1  \n3           0     1  \n4           2     1  "
          },
          "metadata": {}
        }
      ]
    },
    {
      "metadata": {
        "trusted": true
      },
      "cell_type": "code",
      "source": "innings_runs = data.groupby([\"match_id\",\"inning\"],as_index=False)[\"total_runs\"].sum()\ninnings_runs.head()",
      "execution_count": 5,
      "outputs": [
        {
          "output_type": "execute_result",
          "execution_count": 5,
          "data": {
            "text/html": "<div>\n<style scoped>\n    .dataframe tbody tr th:only-of-type {\n        vertical-align: middle;\n    }\n\n    .dataframe tbody tr th {\n        vertical-align: top;\n    }\n\n    .dataframe thead th {\n        text-align: right;\n    }\n</style>\n<table border=\"1\" class=\"dataframe\">\n  <thead>\n    <tr style=\"text-align: right;\">\n      <th></th>\n      <th>match_id</th>\n      <th>inning</th>\n      <th>total_runs</th>\n    </tr>\n  </thead>\n  <tbody>\n    <tr>\n      <th>0</th>\n      <td>1</td>\n      <td>1</td>\n      <td>207</td>\n    </tr>\n    <tr>\n      <th>1</th>\n      <td>1</td>\n      <td>2</td>\n      <td>172</td>\n    </tr>\n    <tr>\n      <th>2</th>\n      <td>2</td>\n      <td>1</td>\n      <td>184</td>\n    </tr>\n    <tr>\n      <th>3</th>\n      <td>2</td>\n      <td>2</td>\n      <td>187</td>\n    </tr>\n    <tr>\n      <th>4</th>\n      <td>3</td>\n      <td>1</td>\n      <td>183</td>\n    </tr>\n  </tbody>\n</table>\n</div>",
            "text/plain": "   match_id  inning  total_runs\n0         1       1         207\n1         1       2         172\n2         2       1         184\n3         2       2         187\n4         3       1         183"
          },
          "metadata": {}
        }
      ]
    },
    {
      "metadata": {
        "trusted": true
      },
      "cell_type": "code",
      "source": "over_innings = data.groupby([\"match_id\",\"inning\"],as_index=False).max()\nover_innings.drop([\"total_runs\"],axis=1,inplace=True)",
      "execution_count": 6,
      "outputs": []
    },
    {
      "metadata": {
        "trusted": true,
        "scrolled": true
      },
      "cell_type": "code",
      "source": "match_data = over_innings.merge(innings_runs)",
      "execution_count": 7,
      "outputs": []
    },
    {
      "metadata": {
        "trusted": true
      },
      "cell_type": "code",
      "source": "match_data.head()",
      "execution_count": 8,
      "outputs": [
        {
          "output_type": "execute_result",
          "execution_count": 8,
          "data": {
            "text/html": "<div>\n<style scoped>\n    .dataframe tbody tr th:only-of-type {\n        vertical-align: middle;\n    }\n\n    .dataframe tbody tr th {\n        vertical-align: top;\n    }\n\n    .dataframe thead th {\n        text-align: right;\n    }\n</style>\n<table border=\"1\" class=\"dataframe\">\n  <thead>\n    <tr style=\"text-align: right;\">\n      <th></th>\n      <th>match_id</th>\n      <th>inning</th>\n      <th>batting_team</th>\n      <th>bowling_team</th>\n      <th>over</th>\n      <th>total_runs</th>\n    </tr>\n  </thead>\n  <tbody>\n    <tr>\n      <th>0</th>\n      <td>1</td>\n      <td>1</td>\n      <td>Sunrisers Hyderabad</td>\n      <td>Royal Challengers Bangalore</td>\n      <td>20</td>\n      <td>207</td>\n    </tr>\n    <tr>\n      <th>1</th>\n      <td>1</td>\n      <td>2</td>\n      <td>Royal Challengers Bangalore</td>\n      <td>Sunrisers Hyderabad</td>\n      <td>20</td>\n      <td>172</td>\n    </tr>\n    <tr>\n      <th>2</th>\n      <td>2</td>\n      <td>1</td>\n      <td>Mumbai Indians</td>\n      <td>Rising Pune Supergiant</td>\n      <td>20</td>\n      <td>184</td>\n    </tr>\n    <tr>\n      <th>3</th>\n      <td>2</td>\n      <td>2</td>\n      <td>Rising Pune Supergiant</td>\n      <td>Mumbai Indians</td>\n      <td>20</td>\n      <td>187</td>\n    </tr>\n    <tr>\n      <th>4</th>\n      <td>3</td>\n      <td>1</td>\n      <td>Gujarat Lions</td>\n      <td>Kolkata Knight Riders</td>\n      <td>20</td>\n      <td>183</td>\n    </tr>\n  </tbody>\n</table>\n</div>",
            "text/plain": "   match_id  inning                 batting_team                 bowling_team  \\\n0         1       1          Sunrisers Hyderabad  Royal Challengers Bangalore   \n1         1       2  Royal Challengers Bangalore          Sunrisers Hyderabad   \n2         2       1               Mumbai Indians       Rising Pune Supergiant   \n3         2       2       Rising Pune Supergiant               Mumbai Indians   \n4         3       1                Gujarat Lions        Kolkata Knight Riders   \n\n   over  total_runs  \n0    20         207  \n1    20         172  \n2    20         184  \n3    20         187  \n4    20         183  "
          },
          "metadata": {}
        }
      ]
    },
    {
      "metadata": {
        "trusted": true
      },
      "cell_type": "code",
      "source": "match_data[\"innings_rr\"] = match_data[\"total_runs\"]/match_data[\"over\"]\nmatch_data.head()",
      "execution_count": 9,
      "outputs": [
        {
          "output_type": "execute_result",
          "execution_count": 9,
          "data": {
            "text/html": "<div>\n<style scoped>\n    .dataframe tbody tr th:only-of-type {\n        vertical-align: middle;\n    }\n\n    .dataframe tbody tr th {\n        vertical-align: top;\n    }\n\n    .dataframe thead th {\n        text-align: right;\n    }\n</style>\n<table border=\"1\" class=\"dataframe\">\n  <thead>\n    <tr style=\"text-align: right;\">\n      <th></th>\n      <th>match_id</th>\n      <th>inning</th>\n      <th>batting_team</th>\n      <th>bowling_team</th>\n      <th>over</th>\n      <th>total_runs</th>\n      <th>innings_rr</th>\n    </tr>\n  </thead>\n  <tbody>\n    <tr>\n      <th>0</th>\n      <td>1</td>\n      <td>1</td>\n      <td>Sunrisers Hyderabad</td>\n      <td>Royal Challengers Bangalore</td>\n      <td>20</td>\n      <td>207</td>\n      <td>10.35</td>\n    </tr>\n    <tr>\n      <th>1</th>\n      <td>1</td>\n      <td>2</td>\n      <td>Royal Challengers Bangalore</td>\n      <td>Sunrisers Hyderabad</td>\n      <td>20</td>\n      <td>172</td>\n      <td>8.60</td>\n    </tr>\n    <tr>\n      <th>2</th>\n      <td>2</td>\n      <td>1</td>\n      <td>Mumbai Indians</td>\n      <td>Rising Pune Supergiant</td>\n      <td>20</td>\n      <td>184</td>\n      <td>9.20</td>\n    </tr>\n    <tr>\n      <th>3</th>\n      <td>2</td>\n      <td>2</td>\n      <td>Rising Pune Supergiant</td>\n      <td>Mumbai Indians</td>\n      <td>20</td>\n      <td>187</td>\n      <td>9.35</td>\n    </tr>\n    <tr>\n      <th>4</th>\n      <td>3</td>\n      <td>1</td>\n      <td>Gujarat Lions</td>\n      <td>Kolkata Knight Riders</td>\n      <td>20</td>\n      <td>183</td>\n      <td>9.15</td>\n    </tr>\n  </tbody>\n</table>\n</div>",
            "text/plain": "   match_id  inning                 batting_team                 bowling_team  \\\n0         1       1          Sunrisers Hyderabad  Royal Challengers Bangalore   \n1         1       2  Royal Challengers Bangalore          Sunrisers Hyderabad   \n2         2       1               Mumbai Indians       Rising Pune Supergiant   \n3         2       2       Rising Pune Supergiant               Mumbai Indians   \n4         3       1                Gujarat Lions        Kolkata Knight Riders   \n\n   over  total_runs  innings_rr  \n0    20         207       10.35  \n1    20         172        8.60  \n2    20         184        9.20  \n3    20         187        9.35  \n4    20         183        9.15  "
          },
          "metadata": {}
        }
      ]
    },
    {
      "metadata": {
        "trusted": true
      },
      "cell_type": "code",
      "source": "teams = list(data[\"batting_team\"].unique()) ",
      "execution_count": 10,
      "outputs": []
    },
    {
      "metadata": {
        "trusted": true
      },
      "cell_type": "code",
      "source": "dct = {}\nfor i in teams:\n    dct['Batting_RR_%s' % i] = [0]\n    dct['Bowling_RR_%s' % i] = [0]\nprint(dct)",
      "execution_count": 11,
      "outputs": [
        {
          "output_type": "stream",
          "text": "{'Batting_RR_Sunrisers Hyderabad': [0], 'Bowling_RR_Sunrisers Hyderabad': [0], 'Batting_RR_Royal Challengers Bangalore': [0], 'Bowling_RR_Royal Challengers Bangalore': [0], 'Batting_RR_Mumbai Indians': [0], 'Bowling_RR_Mumbai Indians': [0], 'Batting_RR_Rising Pune Supergiant': [0], 'Bowling_RR_Rising Pune Supergiant': [0], 'Batting_RR_Gujarat Lions': [0], 'Bowling_RR_Gujarat Lions': [0], 'Batting_RR_Kolkata Knight Riders': [0], 'Bowling_RR_Kolkata Knight Riders': [0], 'Batting_RR_Kings XI Punjab': [0], 'Bowling_RR_Kings XI Punjab': [0], 'Batting_RR_Delhi Daredevils': [0], 'Bowling_RR_Delhi Daredevils': [0], 'Batting_RR_Chennai Super Kings': [0], 'Bowling_RR_Chennai Super Kings': [0], 'Batting_RR_Rajasthan Royals': [0], 'Bowling_RR_Rajasthan Royals': [0], 'Batting_RR_Deccan Chargers': [0], 'Bowling_RR_Deccan Chargers': [0], 'Batting_RR_Kochi Tuskers Kerala': [0], 'Bowling_RR_Kochi Tuskers Kerala': [0], 'Batting_RR_Pune Warriors': [0], 'Bowling_RR_Pune Warriors': [0], 'Batting_RR_Rising Pune Supergiants': [0], 'Bowling_RR_Rising Pune Supergiants': [0], 'Batting_RR_Delhi Capitals': [0], 'Bowling_RR_Delhi Capitals': [0]}\n",
          "name": "stdout"
        }
      ]
    },
    {
      "metadata": {
        "trusted": true
      },
      "cell_type": "code",
      "source": "rr = pd.DataFrame(dct,match_data[\"match_id\"])\nrr.reset_index(inplace=True)\nrr.head()",
      "execution_count": 12,
      "outputs": [
        {
          "output_type": "execute_result",
          "execution_count": 12,
          "data": {
            "text/html": "<div>\n<style scoped>\n    .dataframe tbody tr th:only-of-type {\n        vertical-align: middle;\n    }\n\n    .dataframe tbody tr th {\n        vertical-align: top;\n    }\n\n    .dataframe thead th {\n        text-align: right;\n    }\n</style>\n<table border=\"1\" class=\"dataframe\">\n  <thead>\n    <tr style=\"text-align: right;\">\n      <th></th>\n      <th>match_id</th>\n      <th>Batting_RR_Sunrisers Hyderabad</th>\n      <th>Bowling_RR_Sunrisers Hyderabad</th>\n      <th>Batting_RR_Royal Challengers Bangalore</th>\n      <th>Bowling_RR_Royal Challengers Bangalore</th>\n      <th>Batting_RR_Mumbai Indians</th>\n      <th>Bowling_RR_Mumbai Indians</th>\n      <th>Batting_RR_Rising Pune Supergiant</th>\n      <th>Bowling_RR_Rising Pune Supergiant</th>\n      <th>Batting_RR_Gujarat Lions</th>\n      <th>...</th>\n      <th>Batting_RR_Deccan Chargers</th>\n      <th>Bowling_RR_Deccan Chargers</th>\n      <th>Batting_RR_Kochi Tuskers Kerala</th>\n      <th>Bowling_RR_Kochi Tuskers Kerala</th>\n      <th>Batting_RR_Pune Warriors</th>\n      <th>Bowling_RR_Pune Warriors</th>\n      <th>Batting_RR_Rising Pune Supergiants</th>\n      <th>Bowling_RR_Rising Pune Supergiants</th>\n      <th>Batting_RR_Delhi Capitals</th>\n      <th>Bowling_RR_Delhi Capitals</th>\n    </tr>\n  </thead>\n  <tbody>\n    <tr>\n      <th>0</th>\n      <td>1</td>\n      <td>0</td>\n      <td>0</td>\n      <td>0</td>\n      <td>0</td>\n      <td>0</td>\n      <td>0</td>\n      <td>0</td>\n      <td>0</td>\n      <td>0</td>\n      <td>...</td>\n      <td>0</td>\n      <td>0</td>\n      <td>0</td>\n      <td>0</td>\n      <td>0</td>\n      <td>0</td>\n      <td>0</td>\n      <td>0</td>\n      <td>0</td>\n      <td>0</td>\n    </tr>\n    <tr>\n      <th>1</th>\n      <td>1</td>\n      <td>0</td>\n      <td>0</td>\n      <td>0</td>\n      <td>0</td>\n      <td>0</td>\n      <td>0</td>\n      <td>0</td>\n      <td>0</td>\n      <td>0</td>\n      <td>...</td>\n      <td>0</td>\n      <td>0</td>\n      <td>0</td>\n      <td>0</td>\n      <td>0</td>\n      <td>0</td>\n      <td>0</td>\n      <td>0</td>\n      <td>0</td>\n      <td>0</td>\n    </tr>\n    <tr>\n      <th>2</th>\n      <td>2</td>\n      <td>0</td>\n      <td>0</td>\n      <td>0</td>\n      <td>0</td>\n      <td>0</td>\n      <td>0</td>\n      <td>0</td>\n      <td>0</td>\n      <td>0</td>\n      <td>...</td>\n      <td>0</td>\n      <td>0</td>\n      <td>0</td>\n      <td>0</td>\n      <td>0</td>\n      <td>0</td>\n      <td>0</td>\n      <td>0</td>\n      <td>0</td>\n      <td>0</td>\n    </tr>\n    <tr>\n      <th>3</th>\n      <td>2</td>\n      <td>0</td>\n      <td>0</td>\n      <td>0</td>\n      <td>0</td>\n      <td>0</td>\n      <td>0</td>\n      <td>0</td>\n      <td>0</td>\n      <td>0</td>\n      <td>...</td>\n      <td>0</td>\n      <td>0</td>\n      <td>0</td>\n      <td>0</td>\n      <td>0</td>\n      <td>0</td>\n      <td>0</td>\n      <td>0</td>\n      <td>0</td>\n      <td>0</td>\n    </tr>\n    <tr>\n      <th>4</th>\n      <td>3</td>\n      <td>0</td>\n      <td>0</td>\n      <td>0</td>\n      <td>0</td>\n      <td>0</td>\n      <td>0</td>\n      <td>0</td>\n      <td>0</td>\n      <td>0</td>\n      <td>...</td>\n      <td>0</td>\n      <td>0</td>\n      <td>0</td>\n      <td>0</td>\n      <td>0</td>\n      <td>0</td>\n      <td>0</td>\n      <td>0</td>\n      <td>0</td>\n      <td>0</td>\n    </tr>\n  </tbody>\n</table>\n<p>5 rows × 31 columns</p>\n</div>",
            "text/plain": "   match_id  Batting_RR_Sunrisers Hyderabad  Bowling_RR_Sunrisers Hyderabad  \\\n0         1                               0                               0   \n1         1                               0                               0   \n2         2                               0                               0   \n3         2                               0                               0   \n4         3                               0                               0   \n\n   Batting_RR_Royal Challengers Bangalore  \\\n0                                       0   \n1                                       0   \n2                                       0   \n3                                       0   \n4                                       0   \n\n   Bowling_RR_Royal Challengers Bangalore  Batting_RR_Mumbai Indians  \\\n0                                       0                          0   \n1                                       0                          0   \n2                                       0                          0   \n3                                       0                          0   \n4                                       0                          0   \n\n   Bowling_RR_Mumbai Indians  Batting_RR_Rising Pune Supergiant  \\\n0                          0                                  0   \n1                          0                                  0   \n2                          0                                  0   \n3                          0                                  0   \n4                          0                                  0   \n\n   Bowling_RR_Rising Pune Supergiant  Batting_RR_Gujarat Lions  \\\n0                                  0                         0   \n1                                  0                         0   \n2                                  0                         0   \n3                                  0                         0   \n4                                  0                         0   \n\n             ...              Batting_RR_Deccan Chargers  \\\n0            ...                                       0   \n1            ...                                       0   \n2            ...                                       0   \n3            ...                                       0   \n4            ...                                       0   \n\n   Bowling_RR_Deccan Chargers  Batting_RR_Kochi Tuskers Kerala  \\\n0                           0                                0   \n1                           0                                0   \n2                           0                                0   \n3                           0                                0   \n4                           0                                0   \n\n   Bowling_RR_Kochi Tuskers Kerala  Batting_RR_Pune Warriors  \\\n0                                0                         0   \n1                                0                         0   \n2                                0                         0   \n3                                0                         0   \n4                                0                         0   \n\n   Bowling_RR_Pune Warriors  Batting_RR_Rising Pune Supergiants  \\\n0                         0                                   0   \n1                         0                                   0   \n2                         0                                   0   \n3                         0                                   0   \n4                         0                                   0   \n\n   Bowling_RR_Rising Pune Supergiants  Batting_RR_Delhi Capitals  \\\n0                                   0                          0   \n1                                   0                          0   \n2                                   0                          0   \n3                                   0                          0   \n4                                   0                          0   \n\n   Bowling_RR_Delhi Capitals  \n0                          0  \n1                          0  \n2                          0  \n3                          0  \n4                          0  \n\n[5 rows x 31 columns]"
          },
          "metadata": {}
        }
      ]
    },
    {
      "metadata": {
        "trusted": true
      },
      "cell_type": "code",
      "source": "match_data = match_data.merge(rr)\nmatch_data.drop_duplicates(inplace=True)\nmatch_data.reset_index(inplace=True)\nmatch_data.drop([\"index\"],axis=1,inplace=True)",
      "execution_count": 13,
      "outputs": []
    },
    {
      "metadata": {
        "trusted": true
      },
      "cell_type": "code",
      "source": "batting_columns = list(rr.iloc[:,range(1,30,2)])\nbowling_columns = list(rr.iloc[:,range(2,31,2)])\nr=0\nfor i in batting_columns:\n    for j in match_data.index:\n        if str((match_data.iloc[j,2])) in i:\n            match_data.loc[j,i] = match_data.iloc[j,6]\nfor i in bowling_columns:\n    for j in match_data.index:\n        if str((match_data.iloc[j,3])) in i:\n            match_data.loc[j,i] = match_data.iloc[j,6]            ",
      "execution_count": 14,
      "outputs": []
    },
    {
      "metadata": {
        "trusted": true
      },
      "cell_type": "code",
      "source": "match_data.head()",
      "execution_count": 15,
      "outputs": [
        {
          "output_type": "execute_result",
          "execution_count": 15,
          "data": {
            "text/html": "<div>\n<style scoped>\n    .dataframe tbody tr th:only-of-type {\n        vertical-align: middle;\n    }\n\n    .dataframe tbody tr th {\n        vertical-align: top;\n    }\n\n    .dataframe thead th {\n        text-align: right;\n    }\n</style>\n<table border=\"1\" class=\"dataframe\">\n  <thead>\n    <tr style=\"text-align: right;\">\n      <th></th>\n      <th>match_id</th>\n      <th>inning</th>\n      <th>batting_team</th>\n      <th>bowling_team</th>\n      <th>over</th>\n      <th>total_runs</th>\n      <th>innings_rr</th>\n      <th>Batting_RR_Sunrisers Hyderabad</th>\n      <th>Bowling_RR_Sunrisers Hyderabad</th>\n      <th>Batting_RR_Royal Challengers Bangalore</th>\n      <th>...</th>\n      <th>Batting_RR_Deccan Chargers</th>\n      <th>Bowling_RR_Deccan Chargers</th>\n      <th>Batting_RR_Kochi Tuskers Kerala</th>\n      <th>Bowling_RR_Kochi Tuskers Kerala</th>\n      <th>Batting_RR_Pune Warriors</th>\n      <th>Bowling_RR_Pune Warriors</th>\n      <th>Batting_RR_Rising Pune Supergiants</th>\n      <th>Bowling_RR_Rising Pune Supergiants</th>\n      <th>Batting_RR_Delhi Capitals</th>\n      <th>Bowling_RR_Delhi Capitals</th>\n    </tr>\n  </thead>\n  <tbody>\n    <tr>\n      <th>0</th>\n      <td>1</td>\n      <td>1</td>\n      <td>Sunrisers Hyderabad</td>\n      <td>Royal Challengers Bangalore</td>\n      <td>20</td>\n      <td>207</td>\n      <td>10.35</td>\n      <td>10.35</td>\n      <td>0.0</td>\n      <td>0.0</td>\n      <td>...</td>\n      <td>0.0</td>\n      <td>0.0</td>\n      <td>0.0</td>\n      <td>0.0</td>\n      <td>0.0</td>\n      <td>0.0</td>\n      <td>0.00</td>\n      <td>0.0</td>\n      <td>0.0</td>\n      <td>0.0</td>\n    </tr>\n    <tr>\n      <th>1</th>\n      <td>1</td>\n      <td>2</td>\n      <td>Royal Challengers Bangalore</td>\n      <td>Sunrisers Hyderabad</td>\n      <td>20</td>\n      <td>172</td>\n      <td>8.60</td>\n      <td>0.00</td>\n      <td>8.6</td>\n      <td>8.6</td>\n      <td>...</td>\n      <td>0.0</td>\n      <td>0.0</td>\n      <td>0.0</td>\n      <td>0.0</td>\n      <td>0.0</td>\n      <td>0.0</td>\n      <td>0.00</td>\n      <td>0.0</td>\n      <td>0.0</td>\n      <td>0.0</td>\n    </tr>\n    <tr>\n      <th>2</th>\n      <td>2</td>\n      <td>1</td>\n      <td>Mumbai Indians</td>\n      <td>Rising Pune Supergiant</td>\n      <td>20</td>\n      <td>184</td>\n      <td>9.20</td>\n      <td>0.00</td>\n      <td>0.0</td>\n      <td>0.0</td>\n      <td>...</td>\n      <td>0.0</td>\n      <td>0.0</td>\n      <td>0.0</td>\n      <td>0.0</td>\n      <td>0.0</td>\n      <td>0.0</td>\n      <td>0.00</td>\n      <td>9.2</td>\n      <td>0.0</td>\n      <td>0.0</td>\n    </tr>\n    <tr>\n      <th>3</th>\n      <td>2</td>\n      <td>2</td>\n      <td>Rising Pune Supergiant</td>\n      <td>Mumbai Indians</td>\n      <td>20</td>\n      <td>187</td>\n      <td>9.35</td>\n      <td>0.00</td>\n      <td>0.0</td>\n      <td>0.0</td>\n      <td>...</td>\n      <td>0.0</td>\n      <td>0.0</td>\n      <td>0.0</td>\n      <td>0.0</td>\n      <td>0.0</td>\n      <td>0.0</td>\n      <td>9.35</td>\n      <td>0.0</td>\n      <td>0.0</td>\n      <td>0.0</td>\n    </tr>\n    <tr>\n      <th>4</th>\n      <td>3</td>\n      <td>1</td>\n      <td>Gujarat Lions</td>\n      <td>Kolkata Knight Riders</td>\n      <td>20</td>\n      <td>183</td>\n      <td>9.15</td>\n      <td>0.00</td>\n      <td>0.0</td>\n      <td>0.0</td>\n      <td>...</td>\n      <td>0.0</td>\n      <td>0.0</td>\n      <td>0.0</td>\n      <td>0.0</td>\n      <td>0.0</td>\n      <td>0.0</td>\n      <td>0.00</td>\n      <td>0.0</td>\n      <td>0.0</td>\n      <td>0.0</td>\n    </tr>\n  </tbody>\n</table>\n<p>5 rows × 37 columns</p>\n</div>",
            "text/plain": "   match_id  inning                 batting_team                 bowling_team  \\\n0         1       1          Sunrisers Hyderabad  Royal Challengers Bangalore   \n1         1       2  Royal Challengers Bangalore          Sunrisers Hyderabad   \n2         2       1               Mumbai Indians       Rising Pune Supergiant   \n3         2       2       Rising Pune Supergiant               Mumbai Indians   \n4         3       1                Gujarat Lions        Kolkata Knight Riders   \n\n   over  total_runs  innings_rr  Batting_RR_Sunrisers Hyderabad  \\\n0    20         207       10.35                           10.35   \n1    20         172        8.60                            0.00   \n2    20         184        9.20                            0.00   \n3    20         187        9.35                            0.00   \n4    20         183        9.15                            0.00   \n\n   Bowling_RR_Sunrisers Hyderabad  Batting_RR_Royal Challengers Bangalore  \\\n0                             0.0                                     0.0   \n1                             8.6                                     8.6   \n2                             0.0                                     0.0   \n3                             0.0                                     0.0   \n4                             0.0                                     0.0   \n\n             ...              Batting_RR_Deccan Chargers  \\\n0            ...                                     0.0   \n1            ...                                     0.0   \n2            ...                                     0.0   \n3            ...                                     0.0   \n4            ...                                     0.0   \n\n   Bowling_RR_Deccan Chargers  Batting_RR_Kochi Tuskers Kerala  \\\n0                         0.0                              0.0   \n1                         0.0                              0.0   \n2                         0.0                              0.0   \n3                         0.0                              0.0   \n4                         0.0                              0.0   \n\n   Bowling_RR_Kochi Tuskers Kerala  Batting_RR_Pune Warriors  \\\n0                              0.0                       0.0   \n1                              0.0                       0.0   \n2                              0.0                       0.0   \n3                              0.0                       0.0   \n4                              0.0                       0.0   \n\n   Bowling_RR_Pune Warriors  Batting_RR_Rising Pune Supergiants  \\\n0                       0.0                                0.00   \n1                       0.0                                0.00   \n2                       0.0                                0.00   \n3                       0.0                                9.35   \n4                       0.0                                0.00   \n\n   Bowling_RR_Rising Pune Supergiants  Batting_RR_Delhi Capitals  \\\n0                                 0.0                        0.0   \n1                                 0.0                        0.0   \n2                                 9.2                        0.0   \n3                                 0.0                        0.0   \n4                                 0.0                        0.0   \n\n   Bowling_RR_Delhi Capitals  \n0                        0.0  \n1                        0.0  \n2                        0.0  \n3                        0.0  \n4                        0.0  \n\n[5 rows x 37 columns]"
          },
          "metadata": {}
        }
      ]
    },
    {
      "metadata": {
        "trusted": true
      },
      "cell_type": "code",
      "source": "match_data[\"batting_team\"].unique()",
      "execution_count": 16,
      "outputs": [
        {
          "output_type": "execute_result",
          "execution_count": 16,
          "data": {
            "text/plain": "array(['Sunrisers Hyderabad', 'Royal Challengers Bangalore',\n       'Mumbai Indians', 'Rising Pune Supergiant', 'Gujarat Lions',\n       'Kolkata Knight Riders', 'Kings XI Punjab', 'Delhi Daredevils',\n       'Chennai Super Kings', 'Rajasthan Royals', 'Deccan Chargers',\n       'Kochi Tuskers Kerala', 'Pune Warriors', 'Rising Pune Supergiants',\n       'Delhi Capitals'], dtype=object)"
          },
          "metadata": {}
        }
      ]
    },
    {
      "metadata": {
        "trusted": true
      },
      "cell_type": "code",
      "source": "net_SRH = []\nnet_RCB = []\nnet_MI = []\nnet_RPS = []\nnet_GL = []\nnet_KKR = []\nnet_KXIP = []\nnet_DD= []\nnet_CSK = []\nnet_RR = []\nnet_DC = []\nnet_KTK = []\nnet_PW = []\nnet_RPS = []\nnet_DCa = []\n\ngrouped = match_data.groupby([\"match_id\"]).sum()\ngrouped.reset_index(inplace=True)\ngrouped.head()\n\nfor i in grouped.index:\n    net_SRH.append(grouped.iloc[i,5] - grouped.iloc[i,6])\nfor i in grouped.index:\n    net_RCB.append(grouped.iloc[i,7] - grouped.iloc[i,8])\nfor i in grouped.index:\n    net_MI.append(grouped.iloc[i,9] - grouped.iloc[i,10])\nfor i in grouped.index:\n    net_RPS.append(grouped.iloc[i,11] - grouped.iloc[i,12])\nfor i in grouped.index:\n    net_GL.append(grouped.iloc[i,13] - grouped.iloc[i,14])\nfor i in grouped.index:\n    net_KKR.append(grouped.iloc[i,15] - grouped.iloc[i,16])\nfor i in grouped.index:\n    net_KXIP.append(grouped.iloc[i,17] - grouped.iloc[i,18])\nfor i in grouped.index:\n    net_DD.append(grouped.iloc[i,19] - grouped.iloc[i,20])\nfor i in grouped.index:\n    net_CSK.append(grouped.iloc[i,21] - grouped.iloc[i,22])\nfor i in grouped.index:\n    net_RR.append(grouped.iloc[i,23] - grouped.iloc[i,24])\nfor i in grouped.index:\n    net_DC.append(grouped.iloc[i,25] - grouped.iloc[i,26])\nfor i in grouped.index:\n    net_KTK.append(grouped.iloc[i,27] - grouped.iloc[i,28])\nfor i in grouped.index:\n    net_PW.append(grouped.iloc[i,29] - grouped.iloc[i,30])\nfor i in grouped.index:\n    net_RPS.append(grouped.iloc[i,31] - grouped.iloc[i,32])\nfor i in grouped.index:\n    net_DCa.append(grouped.iloc[i,33] - grouped.iloc[i,34])",
      "execution_count": 54,
      "outputs": []
    },
    {
      "metadata": {
        "trusted": true
      },
      "cell_type": "code",
      "source": "net_RR = [net_SRH,net_RCB,net_MI,net_RPS,net_GL,net_KKR,net_KXIP,net_DD,net_CSK,net_RR,net_DC,net_KTK,net_PW,net_RPS,net_DCa]\ndf = pd.DataFrame(net_RR).transpose()\ndf.columns=[\"net_SRH\",\"net_RCB\",\"net_MI\",\"net_RPS\",\"net_GL\",\"net_KKR\",\"net_KXIP\",\"net_DD\",\"net_CSK\",\"net_RR\",\"net_DC\",\"net_KTK\",\"net_PW\",\"net_RPS\",\"net_DCa\"]\ndf[\"match_id\"] = grouped[\"match_id\"]\ndf.reset_index(inplace=True)",
      "execution_count": 55,
      "outputs": []
    },
    {
      "metadata": {
        "trusted": true
      },
      "cell_type": "code",
      "source": "df.head()",
      "execution_count": 56,
      "outputs": [
        {
          "output_type": "execute_result",
          "execution_count": 56,
          "data": {
            "text/html": "<div>\n<style scoped>\n    .dataframe tbody tr th:only-of-type {\n        vertical-align: middle;\n    }\n\n    .dataframe tbody tr th {\n        vertical-align: top;\n    }\n\n    .dataframe thead th {\n        text-align: right;\n    }\n</style>\n<table border=\"1\" class=\"dataframe\">\n  <thead>\n    <tr style=\"text-align: right;\">\n      <th></th>\n      <th>index</th>\n      <th>net_SRH</th>\n      <th>net_RCB</th>\n      <th>net_MI</th>\n      <th>net_RPS</th>\n      <th>net_GL</th>\n      <th>net_KKR</th>\n      <th>net_KXIP</th>\n      <th>net_DD</th>\n      <th>net_CSK</th>\n      <th>net_RR</th>\n      <th>net_DC</th>\n      <th>net_KTK</th>\n      <th>net_PW</th>\n      <th>net_RPS</th>\n      <th>net_DCa</th>\n      <th>match_id</th>\n    </tr>\n  </thead>\n  <tbody>\n    <tr>\n      <th>0</th>\n      <td>0</td>\n      <td>1.75</td>\n      <td>-1.75</td>\n      <td>0.00</td>\n      <td>0.000000</td>\n      <td>0.000000</td>\n      <td>0.000000</td>\n      <td>0.000000</td>\n      <td>0.00</td>\n      <td>0.0</td>\n      <td>0.0</td>\n      <td>0.0</td>\n      <td>0.0</td>\n      <td>0.0</td>\n      <td>0.000000</td>\n      <td>0.0</td>\n      <td>1.0</td>\n    </tr>\n    <tr>\n      <th>1</th>\n      <td>1</td>\n      <td>0.00</td>\n      <td>0.00</td>\n      <td>-0.15</td>\n      <td>0.150000</td>\n      <td>0.000000</td>\n      <td>0.000000</td>\n      <td>0.000000</td>\n      <td>0.00</td>\n      <td>0.0</td>\n      <td>0.0</td>\n      <td>0.0</td>\n      <td>0.0</td>\n      <td>0.0</td>\n      <td>0.150000</td>\n      <td>0.0</td>\n      <td>2.0</td>\n    </tr>\n    <tr>\n      <th>2</th>\n      <td>2</td>\n      <td>0.00</td>\n      <td>0.00</td>\n      <td>0.00</td>\n      <td>0.000000</td>\n      <td>-3.116667</td>\n      <td>3.116667</td>\n      <td>0.000000</td>\n      <td>0.00</td>\n      <td>0.0</td>\n      <td>0.0</td>\n      <td>0.0</td>\n      <td>0.0</td>\n      <td>0.0</td>\n      <td>0.000000</td>\n      <td>0.0</td>\n      <td>3.0</td>\n    </tr>\n    <tr>\n      <th>3</th>\n      <td>3</td>\n      <td>0.00</td>\n      <td>0.00</td>\n      <td>0.00</td>\n      <td>-0.481579</td>\n      <td>0.000000</td>\n      <td>0.000000</td>\n      <td>0.481579</td>\n      <td>0.00</td>\n      <td>0.0</td>\n      <td>0.0</td>\n      <td>0.0</td>\n      <td>0.0</td>\n      <td>0.0</td>\n      <td>-0.481579</td>\n      <td>0.0</td>\n      <td>4.0</td>\n    </tr>\n    <tr>\n      <th>4</th>\n      <td>4</td>\n      <td>0.00</td>\n      <td>0.75</td>\n      <td>0.00</td>\n      <td>0.000000</td>\n      <td>0.000000</td>\n      <td>0.000000</td>\n      <td>0.000000</td>\n      <td>-0.75</td>\n      <td>0.0</td>\n      <td>0.0</td>\n      <td>0.0</td>\n      <td>0.0</td>\n      <td>0.0</td>\n      <td>0.000000</td>\n      <td>0.0</td>\n      <td>5.0</td>\n    </tr>\n  </tbody>\n</table>\n</div>",
            "text/plain": "   index  net_SRH  net_RCB  net_MI   net_RPS    net_GL   net_KKR  net_KXIP  \\\n0      0     1.75    -1.75    0.00  0.000000  0.000000  0.000000  0.000000   \n1      1     0.00     0.00   -0.15  0.150000  0.000000  0.000000  0.000000   \n2      2     0.00     0.00    0.00  0.000000 -3.116667  3.116667  0.000000   \n3      3     0.00     0.00    0.00 -0.481579  0.000000  0.000000  0.481579   \n4      4     0.00     0.75    0.00  0.000000  0.000000  0.000000  0.000000   \n\n   net_DD  net_CSK  net_RR  net_DC  net_KTK  net_PW   net_RPS  net_DCa  \\\n0    0.00      0.0     0.0     0.0      0.0     0.0  0.000000      0.0   \n1    0.00      0.0     0.0     0.0      0.0     0.0  0.150000      0.0   \n2    0.00      0.0     0.0     0.0      0.0     0.0  0.000000      0.0   \n3    0.00      0.0     0.0     0.0      0.0     0.0 -0.481579      0.0   \n4   -0.75      0.0     0.0     0.0      0.0     0.0  0.000000      0.0   \n\n   match_id  \n0       1.0  \n1       2.0  \n2       3.0  \n3       4.0  \n4       5.0  "
          },
          "metadata": {}
        }
      ]
    },
    {
      "metadata": {
        "trusted": true
      },
      "cell_type": "code",
      "source": "final_netRR = grouped.merge(df)\nfinal_netRR.drop([\"inning\",\"over\",\"total_runs\",\"innings_rr\"],axis=1,inplace=True)",
      "execution_count": 57,
      "outputs": []
    },
    {
      "metadata": {
        "trusted": true
      },
      "cell_type": "code",
      "source": "final_netRR.loc[final_netRR[\"match_id\"]==175]",
      "execution_count": 58,
      "outputs": [
        {
          "output_type": "execute_result",
          "execution_count": 58,
          "data": {
            "text/html": "<div>\n<style scoped>\n    .dataframe tbody tr th:only-of-type {\n        vertical-align: middle;\n    }\n\n    .dataframe tbody tr th {\n        vertical-align: top;\n    }\n\n    .dataframe thead th {\n        text-align: right;\n    }\n</style>\n<table border=\"1\" class=\"dataframe\">\n  <thead>\n    <tr style=\"text-align: right;\">\n      <th></th>\n      <th>match_id</th>\n      <th>Batting_RR_Sunrisers Hyderabad</th>\n      <th>Bowling_RR_Sunrisers Hyderabad</th>\n      <th>Batting_RR_Royal Challengers Bangalore</th>\n      <th>Bowling_RR_Royal Challengers Bangalore</th>\n      <th>Batting_RR_Mumbai Indians</th>\n      <th>Bowling_RR_Mumbai Indians</th>\n      <th>Batting_RR_Rising Pune Supergiant</th>\n      <th>Bowling_RR_Rising Pune Supergiant</th>\n      <th>Batting_RR_Gujarat Lions</th>\n      <th>...</th>\n      <th>net_KKR</th>\n      <th>net_KXIP</th>\n      <th>net_DD</th>\n      <th>net_CSK</th>\n      <th>net_RR</th>\n      <th>net_DC</th>\n      <th>net_KTK</th>\n      <th>net_PW</th>\n      <th>net_RPS</th>\n      <th>net_DCa</th>\n    </tr>\n  </thead>\n  <tbody>\n    <tr>\n      <th>174</th>\n      <td>175</td>\n      <td>0.0</td>\n      <td>0.0</td>\n      <td>0.0</td>\n      <td>0.0</td>\n      <td>0.0</td>\n      <td>0.0</td>\n      <td>0.0</td>\n      <td>0.0</td>\n      <td>0.0</td>\n      <td>...</td>\n      <td>0.55</td>\n      <td>0.0</td>\n      <td>0.0</td>\n      <td>0.0</td>\n      <td>0.0</td>\n      <td>-0.55</td>\n      <td>0.0</td>\n      <td>0.0</td>\n      <td>0.0</td>\n      <td>0.0</td>\n    </tr>\n  </tbody>\n</table>\n<p>1 rows × 47 columns</p>\n</div>",
            "text/plain": "     match_id  Batting_RR_Sunrisers Hyderabad  Bowling_RR_Sunrisers Hyderabad  \\\n174       175                             0.0                             0.0   \n\n     Batting_RR_Royal Challengers Bangalore  \\\n174                                     0.0   \n\n     Bowling_RR_Royal Challengers Bangalore  Batting_RR_Mumbai Indians  \\\n174                                     0.0                        0.0   \n\n     Bowling_RR_Mumbai Indians  Batting_RR_Rising Pune Supergiant  \\\n174                        0.0                                0.0   \n\n     Bowling_RR_Rising Pune Supergiant  Batting_RR_Gujarat Lions   ...     \\\n174                                0.0                       0.0   ...      \n\n     net_KKR  net_KXIP  net_DD  net_CSK  net_RR  net_DC  net_KTK  net_PW  \\\n174     0.55       0.0     0.0      0.0     0.0   -0.55      0.0     0.0   \n\n     net_RPS  net_DCa  \n174      0.0      0.0  \n\n[1 rows x 47 columns]"
          },
          "metadata": {}
        }
      ]
    },
    {
      "metadata": {
        "trusted": true
      },
      "cell_type": "code",
      "source": "matches = pd.read_csv(\"Matches.csv\")\nmatches = matches[[\"id\",\"season\",\"team1\",\"team2\",\"winner\"]]",
      "execution_count": 59,
      "outputs": []
    },
    {
      "metadata": {
        "trusted": true
      },
      "cell_type": "code",
      "source": "#final = matches.merge(final_netRR)\nmatches.rename(columns={\"id\":\"match_id\"},inplace=True)",
      "execution_count": 60,
      "outputs": []
    },
    {
      "metadata": {
        "trusted": true
      },
      "cell_type": "code",
      "source": "matches.loc[matches[\"season\"]==2010]",
      "execution_count": 61,
      "outputs": [
        {
          "output_type": "execute_result",
          "execution_count": 61,
          "data": {
            "text/html": "<div>\n<style scoped>\n    .dataframe tbody tr th:only-of-type {\n        vertical-align: middle;\n    }\n\n    .dataframe tbody tr th {\n        vertical-align: top;\n    }\n\n    .dataframe thead th {\n        text-align: right;\n    }\n</style>\n<table border=\"1\" class=\"dataframe\">\n  <thead>\n    <tr style=\"text-align: right;\">\n      <th></th>\n      <th>match_id</th>\n      <th>season</th>\n      <th>team1</th>\n      <th>team2</th>\n      <th>winner</th>\n    </tr>\n  </thead>\n  <tbody>\n    <tr>\n      <th>174</th>\n      <td>175</td>\n      <td>2010</td>\n      <td>Kolkata Knight Riders</td>\n      <td>Deccan Chargers</td>\n      <td>Kolkata Knight Riders</td>\n    </tr>\n    <tr>\n      <th>175</th>\n      <td>176</td>\n      <td>2010</td>\n      <td>Mumbai Indians</td>\n      <td>Rajasthan Royals</td>\n      <td>Mumbai Indians</td>\n    </tr>\n    <tr>\n      <th>176</th>\n      <td>177</td>\n      <td>2010</td>\n      <td>Kings XI Punjab</td>\n      <td>Delhi Daredevils</td>\n      <td>Delhi Daredevils</td>\n    </tr>\n    <tr>\n      <th>177</th>\n      <td>178</td>\n      <td>2010</td>\n      <td>Royal Challengers Bangalore</td>\n      <td>Kolkata Knight Riders</td>\n      <td>Kolkata Knight Riders</td>\n    </tr>\n    <tr>\n      <th>178</th>\n      <td>179</td>\n      <td>2010</td>\n      <td>Deccan Chargers</td>\n      <td>Chennai Super Kings</td>\n      <td>Deccan Chargers</td>\n    </tr>\n    <tr>\n      <th>179</th>\n      <td>180</td>\n      <td>2010</td>\n      <td>Rajasthan Royals</td>\n      <td>Delhi Daredevils</td>\n      <td>Delhi Daredevils</td>\n    </tr>\n    <tr>\n      <th>180</th>\n      <td>181</td>\n      <td>2010</td>\n      <td>Kings XI Punjab</td>\n      <td>Royal Challengers Bangalore</td>\n      <td>Royal Challengers Bangalore</td>\n    </tr>\n    <tr>\n      <th>181</th>\n      <td>182</td>\n      <td>2010</td>\n      <td>Chennai Super Kings</td>\n      <td>Kolkata Knight Riders</td>\n      <td>Chennai Super Kings</td>\n    </tr>\n    <tr>\n      <th>182</th>\n      <td>183</td>\n      <td>2010</td>\n      <td>Mumbai Indians</td>\n      <td>Delhi Daredevils</td>\n      <td>Mumbai Indians</td>\n    </tr>\n    <tr>\n      <th>183</th>\n      <td>184</td>\n      <td>2010</td>\n      <td>Rajasthan Royals</td>\n      <td>Royal Challengers Bangalore</td>\n      <td>Royal Challengers Bangalore</td>\n    </tr>\n    <tr>\n      <th>184</th>\n      <td>185</td>\n      <td>2010</td>\n      <td>Delhi Daredevils</td>\n      <td>Chennai Super Kings</td>\n      <td>Chennai Super Kings</td>\n    </tr>\n    <tr>\n      <th>185</th>\n      <td>186</td>\n      <td>2010</td>\n      <td>Deccan Chargers</td>\n      <td>Kings XI Punjab</td>\n      <td>Deccan Chargers</td>\n    </tr>\n    <tr>\n      <th>186</th>\n      <td>187</td>\n      <td>2010</td>\n      <td>Rajasthan Royals</td>\n      <td>Kolkata Knight Riders</td>\n      <td>Rajasthan Royals</td>\n    </tr>\n    <tr>\n      <th>187</th>\n      <td>188</td>\n      <td>2010</td>\n      <td>Mumbai Indians</td>\n      <td>Royal Challengers Bangalore</td>\n      <td>Royal Challengers Bangalore</td>\n    </tr>\n    <tr>\n      <th>188</th>\n      <td>189</td>\n      <td>2010</td>\n      <td>Deccan Chargers</td>\n      <td>Delhi Daredevils</td>\n      <td>Deccan Chargers</td>\n    </tr>\n    <tr>\n      <th>189</th>\n      <td>190</td>\n      <td>2010</td>\n      <td>Kings XI Punjab</td>\n      <td>Chennai Super Kings</td>\n      <td>Kings XI Punjab</td>\n    </tr>\n    <tr>\n      <th>190</th>\n      <td>191</td>\n      <td>2010</td>\n      <td>Kolkata Knight Riders</td>\n      <td>Mumbai Indians</td>\n      <td>Mumbai Indians</td>\n    </tr>\n    <tr>\n      <th>191</th>\n      <td>192</td>\n      <td>2010</td>\n      <td>Royal Challengers Bangalore</td>\n      <td>Chennai Super Kings</td>\n      <td>Royal Challengers Bangalore</td>\n    </tr>\n    <tr>\n      <th>192</th>\n      <td>193</td>\n      <td>2010</td>\n      <td>Rajasthan Royals</td>\n      <td>Kings XI Punjab</td>\n      <td>Rajasthan Royals</td>\n    </tr>\n    <tr>\n      <th>193</th>\n      <td>194</td>\n      <td>2010</td>\n      <td>Chennai Super Kings</td>\n      <td>Mumbai Indians</td>\n      <td>Mumbai Indians</td>\n    </tr>\n    <tr>\n      <th>194</th>\n      <td>195</td>\n      <td>2010</td>\n      <td>Deccan Chargers</td>\n      <td>Rajasthan Royals</td>\n      <td>Rajasthan Royals</td>\n    </tr>\n    <tr>\n      <th>195</th>\n      <td>196</td>\n      <td>2010</td>\n      <td>Kolkata Knight Riders</td>\n      <td>Kings XI Punjab</td>\n      <td>Kolkata Knight Riders</td>\n    </tr>\n    <tr>\n      <th>196</th>\n      <td>197</td>\n      <td>2010</td>\n      <td>Delhi Daredevils</td>\n      <td>Royal Challengers Bangalore</td>\n      <td>Delhi Daredevils</td>\n    </tr>\n    <tr>\n      <th>197</th>\n      <td>198</td>\n      <td>2010</td>\n      <td>Rajasthan Royals</td>\n      <td>Chennai Super Kings</td>\n      <td>Rajasthan Royals</td>\n    </tr>\n    <tr>\n      <th>198</th>\n      <td>199</td>\n      <td>2010</td>\n      <td>Mumbai Indians</td>\n      <td>Deccan Chargers</td>\n      <td>Mumbai Indians</td>\n    </tr>\n    <tr>\n      <th>199</th>\n      <td>200</td>\n      <td>2010</td>\n      <td>Delhi Daredevils</td>\n      <td>Kolkata Knight Riders</td>\n      <td>Delhi Daredevils</td>\n    </tr>\n    <tr>\n      <th>200</th>\n      <td>201</td>\n      <td>2010</td>\n      <td>Kings XI Punjab</td>\n      <td>Mumbai Indians</td>\n      <td>Mumbai Indians</td>\n    </tr>\n    <tr>\n      <th>201</th>\n      <td>202</td>\n      <td>2010</td>\n      <td>Royal Challengers Bangalore</td>\n      <td>Chennai Super Kings</td>\n      <td>Chennai Super Kings</td>\n    </tr>\n    <tr>\n      <th>202</th>\n      <td>203</td>\n      <td>2010</td>\n      <td>Delhi Daredevils</td>\n      <td>Rajasthan Royals</td>\n      <td>Delhi Daredevils</td>\n    </tr>\n    <tr>\n      <th>203</th>\n      <td>204</td>\n      <td>2010</td>\n      <td>Kolkata Knight Riders</td>\n      <td>Deccan Chargers</td>\n      <td>Kolkata Knight Riders</td>\n    </tr>\n    <tr>\n      <th>204</th>\n      <td>205</td>\n      <td>2010</td>\n      <td>Kings XI Punjab</td>\n      <td>Royal Challengers Bangalore</td>\n      <td>Royal Challengers Bangalore</td>\n    </tr>\n    <tr>\n      <th>205</th>\n      <td>206</td>\n      <td>2010</td>\n      <td>Chennai Super Kings</td>\n      <td>Rajasthan Royals</td>\n      <td>Chennai Super Kings</td>\n    </tr>\n    <tr>\n      <th>206</th>\n      <td>207</td>\n      <td>2010</td>\n      <td>Mumbai Indians</td>\n      <td>Deccan Chargers</td>\n      <td>Mumbai Indians</td>\n    </tr>\n    <tr>\n      <th>207</th>\n      <td>208</td>\n      <td>2010</td>\n      <td>Kolkata Knight Riders</td>\n      <td>Kings XI Punjab</td>\n      <td>Kings XI Punjab</td>\n    </tr>\n    <tr>\n      <th>208</th>\n      <td>209</td>\n      <td>2010</td>\n      <td>Delhi Daredevils</td>\n      <td>Royal Challengers Bangalore</td>\n      <td>Delhi Daredevils</td>\n    </tr>\n    <tr>\n      <th>209</th>\n      <td>210</td>\n      <td>2010</td>\n      <td>Rajasthan Royals</td>\n      <td>Deccan Chargers</td>\n      <td>Rajasthan Royals</td>\n    </tr>\n    <tr>\n      <th>210</th>\n      <td>211</td>\n      <td>2010</td>\n      <td>Chennai Super Kings</td>\n      <td>Mumbai Indians</td>\n      <td>Chennai Super Kings</td>\n    </tr>\n    <tr>\n      <th>211</th>\n      <td>212</td>\n      <td>2010</td>\n      <td>Kings XI Punjab</td>\n      <td>Rajasthan Royals</td>\n      <td>Rajasthan Royals</td>\n    </tr>\n    <tr>\n      <th>212</th>\n      <td>213</td>\n      <td>2010</td>\n      <td>Kolkata Knight Riders</td>\n      <td>Delhi Daredevils</td>\n      <td>Kolkata Knight Riders</td>\n    </tr>\n    <tr>\n      <th>213</th>\n      <td>214</td>\n      <td>2010</td>\n      <td>Royal Challengers Bangalore</td>\n      <td>Deccan Chargers</td>\n      <td>Deccan Chargers</td>\n    </tr>\n    <tr>\n      <th>214</th>\n      <td>215</td>\n      <td>2010</td>\n      <td>Mumbai Indians</td>\n      <td>Kings XI Punjab</td>\n      <td>Kings XI Punjab</td>\n    </tr>\n    <tr>\n      <th>215</th>\n      <td>216</td>\n      <td>2010</td>\n      <td>Chennai Super Kings</td>\n      <td>Deccan Chargers</td>\n      <td>Deccan Chargers</td>\n    </tr>\n    <tr>\n      <th>216</th>\n      <td>217</td>\n      <td>2010</td>\n      <td>Kolkata Knight Riders</td>\n      <td>Royal Challengers Bangalore</td>\n      <td>Royal Challengers Bangalore</td>\n    </tr>\n    <tr>\n      <th>217</th>\n      <td>218</td>\n      <td>2010</td>\n      <td>Delhi Daredevils</td>\n      <td>Kings XI Punjab</td>\n      <td>Kings XI Punjab</td>\n    </tr>\n    <tr>\n      <th>218</th>\n      <td>219</td>\n      <td>2010</td>\n      <td>Mumbai Indians</td>\n      <td>Rajasthan Royals</td>\n      <td>Mumbai Indians</td>\n    </tr>\n    <tr>\n      <th>219</th>\n      <td>220</td>\n      <td>2010</td>\n      <td>Deccan Chargers</td>\n      <td>Royal Challengers Bangalore</td>\n      <td>Deccan Chargers</td>\n    </tr>\n    <tr>\n      <th>220</th>\n      <td>221</td>\n      <td>2010</td>\n      <td>Mumbai Indians</td>\n      <td>Delhi Daredevils</td>\n      <td>Mumbai Indians</td>\n    </tr>\n    <tr>\n      <th>221</th>\n      <td>222</td>\n      <td>2010</td>\n      <td>Kolkata Knight Riders</td>\n      <td>Chennai Super Kings</td>\n      <td>Chennai Super Kings</td>\n    </tr>\n    <tr>\n      <th>222</th>\n      <td>223</td>\n      <td>2010</td>\n      <td>Rajasthan Royals</td>\n      <td>Royal Challengers Bangalore</td>\n      <td>Royal Challengers Bangalore</td>\n    </tr>\n    <tr>\n      <th>223</th>\n      <td>224</td>\n      <td>2010</td>\n      <td>Chennai Super Kings</td>\n      <td>Delhi Daredevils</td>\n      <td>Delhi Daredevils</td>\n    </tr>\n    <tr>\n      <th>224</th>\n      <td>225</td>\n      <td>2010</td>\n      <td>Kings XI Punjab</td>\n      <td>Deccan Chargers</td>\n      <td>Deccan Chargers</td>\n    </tr>\n    <tr>\n      <th>225</th>\n      <td>226</td>\n      <td>2010</td>\n      <td>Mumbai Indians</td>\n      <td>Royal Challengers Bangalore</td>\n      <td>Mumbai Indians</td>\n    </tr>\n    <tr>\n      <th>226</th>\n      <td>227</td>\n      <td>2010</td>\n      <td>Rajasthan Royals</td>\n      <td>Kolkata Knight Riders</td>\n      <td>Kolkata Knight Riders</td>\n    </tr>\n    <tr>\n      <th>227</th>\n      <td>228</td>\n      <td>2010</td>\n      <td>Kings XI Punjab</td>\n      <td>Chennai Super Kings</td>\n      <td>Chennai Super Kings</td>\n    </tr>\n    <tr>\n      <th>228</th>\n      <td>229</td>\n      <td>2010</td>\n      <td>Deccan Chargers</td>\n      <td>Delhi Daredevils</td>\n      <td>Deccan Chargers</td>\n    </tr>\n    <tr>\n      <th>229</th>\n      <td>230</td>\n      <td>2010</td>\n      <td>Mumbai Indians</td>\n      <td>Kolkata Knight Riders</td>\n      <td>Kolkata Knight Riders</td>\n    </tr>\n    <tr>\n      <th>230</th>\n      <td>231</td>\n      <td>2010</td>\n      <td>Mumbai Indians</td>\n      <td>Royal Challengers Bangalore</td>\n      <td>Mumbai Indians</td>\n    </tr>\n    <tr>\n      <th>231</th>\n      <td>232</td>\n      <td>2010</td>\n      <td>Chennai Super Kings</td>\n      <td>Deccan Chargers</td>\n      <td>Chennai Super Kings</td>\n    </tr>\n    <tr>\n      <th>232</th>\n      <td>233</td>\n      <td>2010</td>\n      <td>Deccan Chargers</td>\n      <td>Royal Challengers Bangalore</td>\n      <td>Royal Challengers Bangalore</td>\n    </tr>\n    <tr>\n      <th>233</th>\n      <td>234</td>\n      <td>2010</td>\n      <td>Chennai Super Kings</td>\n      <td>Mumbai Indians</td>\n      <td>Chennai Super Kings</td>\n    </tr>\n  </tbody>\n</table>\n</div>",
            "text/plain": "     match_id  season                        team1  \\\n174       175    2010        Kolkata Knight Riders   \n175       176    2010               Mumbai Indians   \n176       177    2010              Kings XI Punjab   \n177       178    2010  Royal Challengers Bangalore   \n178       179    2010              Deccan Chargers   \n179       180    2010             Rajasthan Royals   \n180       181    2010              Kings XI Punjab   \n181       182    2010          Chennai Super Kings   \n182       183    2010               Mumbai Indians   \n183       184    2010             Rajasthan Royals   \n184       185    2010             Delhi Daredevils   \n185       186    2010              Deccan Chargers   \n186       187    2010             Rajasthan Royals   \n187       188    2010               Mumbai Indians   \n188       189    2010              Deccan Chargers   \n189       190    2010              Kings XI Punjab   \n190       191    2010        Kolkata Knight Riders   \n191       192    2010  Royal Challengers Bangalore   \n192       193    2010             Rajasthan Royals   \n193       194    2010          Chennai Super Kings   \n194       195    2010              Deccan Chargers   \n195       196    2010        Kolkata Knight Riders   \n196       197    2010             Delhi Daredevils   \n197       198    2010             Rajasthan Royals   \n198       199    2010               Mumbai Indians   \n199       200    2010             Delhi Daredevils   \n200       201    2010              Kings XI Punjab   \n201       202    2010  Royal Challengers Bangalore   \n202       203    2010             Delhi Daredevils   \n203       204    2010        Kolkata Knight Riders   \n204       205    2010              Kings XI Punjab   \n205       206    2010          Chennai Super Kings   \n206       207    2010               Mumbai Indians   \n207       208    2010        Kolkata Knight Riders   \n208       209    2010             Delhi Daredevils   \n209       210    2010             Rajasthan Royals   \n210       211    2010          Chennai Super Kings   \n211       212    2010              Kings XI Punjab   \n212       213    2010        Kolkata Knight Riders   \n213       214    2010  Royal Challengers Bangalore   \n214       215    2010               Mumbai Indians   \n215       216    2010          Chennai Super Kings   \n216       217    2010        Kolkata Knight Riders   \n217       218    2010             Delhi Daredevils   \n218       219    2010               Mumbai Indians   \n219       220    2010              Deccan Chargers   \n220       221    2010               Mumbai Indians   \n221       222    2010        Kolkata Knight Riders   \n222       223    2010             Rajasthan Royals   \n223       224    2010          Chennai Super Kings   \n224       225    2010              Kings XI Punjab   \n225       226    2010               Mumbai Indians   \n226       227    2010             Rajasthan Royals   \n227       228    2010              Kings XI Punjab   \n228       229    2010              Deccan Chargers   \n229       230    2010               Mumbai Indians   \n230       231    2010               Mumbai Indians   \n231       232    2010          Chennai Super Kings   \n232       233    2010              Deccan Chargers   \n233       234    2010          Chennai Super Kings   \n\n                           team2                       winner  \n174              Deccan Chargers        Kolkata Knight Riders  \n175             Rajasthan Royals               Mumbai Indians  \n176             Delhi Daredevils             Delhi Daredevils  \n177        Kolkata Knight Riders        Kolkata Knight Riders  \n178          Chennai Super Kings              Deccan Chargers  \n179             Delhi Daredevils             Delhi Daredevils  \n180  Royal Challengers Bangalore  Royal Challengers Bangalore  \n181        Kolkata Knight Riders          Chennai Super Kings  \n182             Delhi Daredevils               Mumbai Indians  \n183  Royal Challengers Bangalore  Royal Challengers Bangalore  \n184          Chennai Super Kings          Chennai Super Kings  \n185              Kings XI Punjab              Deccan Chargers  \n186        Kolkata Knight Riders             Rajasthan Royals  \n187  Royal Challengers Bangalore  Royal Challengers Bangalore  \n188             Delhi Daredevils              Deccan Chargers  \n189          Chennai Super Kings              Kings XI Punjab  \n190               Mumbai Indians               Mumbai Indians  \n191          Chennai Super Kings  Royal Challengers Bangalore  \n192              Kings XI Punjab             Rajasthan Royals  \n193               Mumbai Indians               Mumbai Indians  \n194             Rajasthan Royals             Rajasthan Royals  \n195              Kings XI Punjab        Kolkata Knight Riders  \n196  Royal Challengers Bangalore             Delhi Daredevils  \n197          Chennai Super Kings             Rajasthan Royals  \n198              Deccan Chargers               Mumbai Indians  \n199        Kolkata Knight Riders             Delhi Daredevils  \n200               Mumbai Indians               Mumbai Indians  \n201          Chennai Super Kings          Chennai Super Kings  \n202             Rajasthan Royals             Delhi Daredevils  \n203              Deccan Chargers        Kolkata Knight Riders  \n204  Royal Challengers Bangalore  Royal Challengers Bangalore  \n205             Rajasthan Royals          Chennai Super Kings  \n206              Deccan Chargers               Mumbai Indians  \n207              Kings XI Punjab              Kings XI Punjab  \n208  Royal Challengers Bangalore             Delhi Daredevils  \n209              Deccan Chargers             Rajasthan Royals  \n210               Mumbai Indians          Chennai Super Kings  \n211             Rajasthan Royals             Rajasthan Royals  \n212             Delhi Daredevils        Kolkata Knight Riders  \n213              Deccan Chargers              Deccan Chargers  \n214              Kings XI Punjab              Kings XI Punjab  \n215              Deccan Chargers              Deccan Chargers  \n216  Royal Challengers Bangalore  Royal Challengers Bangalore  \n217              Kings XI Punjab              Kings XI Punjab  \n218             Rajasthan Royals               Mumbai Indians  \n219  Royal Challengers Bangalore              Deccan Chargers  \n220             Delhi Daredevils               Mumbai Indians  \n221          Chennai Super Kings          Chennai Super Kings  \n222  Royal Challengers Bangalore  Royal Challengers Bangalore  \n223             Delhi Daredevils             Delhi Daredevils  \n224              Deccan Chargers              Deccan Chargers  \n225  Royal Challengers Bangalore               Mumbai Indians  \n226        Kolkata Knight Riders        Kolkata Knight Riders  \n227          Chennai Super Kings          Chennai Super Kings  \n228             Delhi Daredevils              Deccan Chargers  \n229        Kolkata Knight Riders        Kolkata Knight Riders  \n230  Royal Challengers Bangalore               Mumbai Indians  \n231              Deccan Chargers          Chennai Super Kings  \n232  Royal Challengers Bangalore  Royal Challengers Bangalore  \n233               Mumbai Indians          Chennai Super Kings  "
          },
          "metadata": {}
        }
      ]
    },
    {
      "metadata": {
        "trusted": true
      },
      "cell_type": "code",
      "source": "final = matches.merge(final_netRR)\nimport numpy as np",
      "execution_count": 62,
      "outputs": []
    },
    {
      "metadata": {
        "trusted": true
      },
      "cell_type": "code",
      "source": "final.loc[final[\"match_id\"]==175]",
      "execution_count": 63,
      "outputs": [
        {
          "output_type": "execute_result",
          "execution_count": 63,
          "data": {
            "text/html": "<div>\n<style scoped>\n    .dataframe tbody tr th:only-of-type {\n        vertical-align: middle;\n    }\n\n    .dataframe tbody tr th {\n        vertical-align: top;\n    }\n\n    .dataframe thead th {\n        text-align: right;\n    }\n</style>\n<table border=\"1\" class=\"dataframe\">\n  <thead>\n    <tr style=\"text-align: right;\">\n      <th></th>\n      <th>match_id</th>\n      <th>season</th>\n      <th>team1</th>\n      <th>team2</th>\n      <th>winner</th>\n      <th>Batting_RR_Sunrisers Hyderabad</th>\n      <th>Bowling_RR_Sunrisers Hyderabad</th>\n      <th>Batting_RR_Royal Challengers Bangalore</th>\n      <th>Bowling_RR_Royal Challengers Bangalore</th>\n      <th>Batting_RR_Mumbai Indians</th>\n      <th>...</th>\n      <th>net_KKR</th>\n      <th>net_KXIP</th>\n      <th>net_DD</th>\n      <th>net_CSK</th>\n      <th>net_RR</th>\n      <th>net_DC</th>\n      <th>net_KTK</th>\n      <th>net_PW</th>\n      <th>net_RPS</th>\n      <th>net_DCa</th>\n    </tr>\n  </thead>\n  <tbody>\n    <tr>\n      <th>174</th>\n      <td>175</td>\n      <td>2010</td>\n      <td>Kolkata Knight Riders</td>\n      <td>Deccan Chargers</td>\n      <td>Kolkata Knight Riders</td>\n      <td>0.0</td>\n      <td>0.0</td>\n      <td>0.0</td>\n      <td>0.0</td>\n      <td>0.0</td>\n      <td>...</td>\n      <td>0.55</td>\n      <td>0.0</td>\n      <td>0.0</td>\n      <td>0.0</td>\n      <td>0.0</td>\n      <td>-0.55</td>\n      <td>0.0</td>\n      <td>0.0</td>\n      <td>0.0</td>\n      <td>0.0</td>\n    </tr>\n  </tbody>\n</table>\n<p>1 rows × 51 columns</p>\n</div>",
            "text/plain": "     match_id  season                  team1            team2  \\\n174       175    2010  Kolkata Knight Riders  Deccan Chargers   \n\n                    winner  Batting_RR_Sunrisers Hyderabad  \\\n174  Kolkata Knight Riders                             0.0   \n\n     Bowling_RR_Sunrisers Hyderabad  Batting_RR_Royal Challengers Bangalore  \\\n174                             0.0                                     0.0   \n\n     Bowling_RR_Royal Challengers Bangalore  Batting_RR_Mumbai Indians  \\\n174                                     0.0                        0.0   \n\n      ...     net_KKR  net_KXIP  net_DD  net_CSK  net_RR  net_DC  net_KTK  \\\n174   ...        0.55       0.0     0.0      0.0     0.0   -0.55      0.0   \n\n     net_PW  net_RPS  net_DCa  \n174     0.0      0.0      0.0  \n\n[1 rows x 51 columns]"
          },
          "metadata": {}
        }
      ]
    },
    {
      "metadata": {
        "trusted": true
      },
      "cell_type": "code",
      "source": "final.fillna(0)\nfinal.replace({'0':np.nan, 0:np.nan},inplace=True)",
      "execution_count": 64,
      "outputs": []
    },
    {
      "metadata": {
        "trusted": true
      },
      "cell_type": "code",
      "source": "dct= {}\nfor index in range(2008,2020,1):\n    dct['final_%s' % index] = final.loc[final[\"season\"]==index]",
      "execution_count": 65,
      "outputs": []
    },
    {
      "metadata": {
        "trusted": true
      },
      "cell_type": "code",
      "source": "final_2008 = dct[\"final_2008\"]\nfinal_2009 = dct[\"final_2009\"]\nfinal_2010 = dct[\"final_2010\"]\nfinal_2011 = dct[\"final_2011\"]\nfinal_2012 = dct[\"final_2012\"]\nfinal_2013 = dct[\"final_2013\"]\nfinal_2014 = dct[\"final_2014\"] \nfinal_2015 = dct[\"final_2015\"]\nfinal_2016 = dct[\"final_2016\"]\nfinal_2017 = dct[\"final_2017\"]\nfinal_2018 = dct[\"final_2018\"]\nfinal_2019 = dct[\"final_2019\"]",
      "execution_count": 66,
      "outputs": []
    },
    {
      "metadata": {
        "trusted": true
      },
      "cell_type": "code",
      "source": "final_2008.iloc[:,5:] = final_2008.iloc[:,5:].cumsum()\nfinal_2009.iloc[:,5:] = final_2009.iloc[:,5:].cumsum()\nfinal_2010.iloc[:,5:] = final_2010.iloc[:,5:].cumsum()\nfinal_2011.iloc[:,5:] = final_2011.iloc[:,5:].cumsum()\nfinal_2012.iloc[:,5:] = final_2012.iloc[:,5:].cumsum()\nfinal_2013.iloc[:,5:] = final_2013.iloc[:,5:].cumsum()\nfinal_2014.iloc[:,5:] = final_2014.iloc[:,5:].cumsum()\nfinal_2015.iloc[:,5:] = final_2015.iloc[:,5:].cumsum()\nfinal_2016.iloc[:,5:] = final_2016.iloc[:,5:].cumsum()\nfinal_2017.iloc[:,5:] = final_2017.iloc[:,5:].cumsum()\nfinal_2018.iloc[:,5:] = final_2018.iloc[:,5:].cumsum()\nfinal_2019.iloc[:,5:] = final_2019.iloc[:,5:].cumsum()",
      "execution_count": 67,
      "outputs": [
        {
          "output_type": "stream",
          "text": "/home/nbuser/anaconda3_501/lib/python3.6/site-packages/pandas/core/indexing.py:543: SettingWithCopyWarning: \nA value is trying to be set on a copy of a slice from a DataFrame.\nTry using .loc[row_indexer,col_indexer] = value instead\n\nSee the caveats in the documentation: http://pandas.pydata.org/pandas-docs/stable/indexing.html#indexing-view-versus-copy\n  self.obj[item] = s\n",
          "name": "stderr"
        }
      ]
    },
    {
      "metadata": {
        "trusted": true
      },
      "cell_type": "code",
      "source": "final_2010.head()",
      "execution_count": 68,
      "outputs": [
        {
          "output_type": "execute_result",
          "execution_count": 68,
          "data": {
            "text/html": "<div>\n<style scoped>\n    .dataframe tbody tr th:only-of-type {\n        vertical-align: middle;\n    }\n\n    .dataframe tbody tr th {\n        vertical-align: top;\n    }\n\n    .dataframe thead th {\n        text-align: right;\n    }\n</style>\n<table border=\"1\" class=\"dataframe\">\n  <thead>\n    <tr style=\"text-align: right;\">\n      <th></th>\n      <th>match_id</th>\n      <th>season</th>\n      <th>team1</th>\n      <th>team2</th>\n      <th>winner</th>\n      <th>Batting_RR_Sunrisers Hyderabad</th>\n      <th>Bowling_RR_Sunrisers Hyderabad</th>\n      <th>Batting_RR_Royal Challengers Bangalore</th>\n      <th>Bowling_RR_Royal Challengers Bangalore</th>\n      <th>Batting_RR_Mumbai Indians</th>\n      <th>...</th>\n      <th>net_KKR</th>\n      <th>net_KXIP</th>\n      <th>net_DD</th>\n      <th>net_CSK</th>\n      <th>net_RR</th>\n      <th>net_DC</th>\n      <th>net_KTK</th>\n      <th>net_PW</th>\n      <th>net_RPS</th>\n      <th>net_DCa</th>\n    </tr>\n  </thead>\n  <tbody>\n    <tr>\n      <th>174</th>\n      <td>175.0</td>\n      <td>2010.0</td>\n      <td>Kolkata Knight Riders</td>\n      <td>Deccan Chargers</td>\n      <td>Kolkata Knight Riders</td>\n      <td>NaN</td>\n      <td>NaN</td>\n      <td>NaN</td>\n      <td>NaN</td>\n      <td>NaN</td>\n      <td>...</td>\n      <td>0.55</td>\n      <td>NaN</td>\n      <td>NaN</td>\n      <td>NaN</td>\n      <td>NaN</td>\n      <td>-0.55</td>\n      <td>NaN</td>\n      <td>NaN</td>\n      <td>NaN</td>\n      <td>NaN</td>\n    </tr>\n    <tr>\n      <th>175</th>\n      <td>176.0</td>\n      <td>2010.0</td>\n      <td>Mumbai Indians</td>\n      <td>Rajasthan Royals</td>\n      <td>Mumbai Indians</td>\n      <td>NaN</td>\n      <td>NaN</td>\n      <td>NaN</td>\n      <td>NaN</td>\n      <td>10.6</td>\n      <td>...</td>\n      <td>NaN</td>\n      <td>NaN</td>\n      <td>NaN</td>\n      <td>NaN</td>\n      <td>-0.2</td>\n      <td>NaN</td>\n      <td>NaN</td>\n      <td>NaN</td>\n      <td>NaN</td>\n      <td>NaN</td>\n    </tr>\n    <tr>\n      <th>176</th>\n      <td>177.0</td>\n      <td>2010.0</td>\n      <td>Kings XI Punjab</td>\n      <td>Delhi Daredevils</td>\n      <td>Delhi Daredevils</td>\n      <td>NaN</td>\n      <td>NaN</td>\n      <td>NaN</td>\n      <td>NaN</td>\n      <td>NaN</td>\n      <td>...</td>\n      <td>NaN</td>\n      <td>-0.2</td>\n      <td>0.2</td>\n      <td>NaN</td>\n      <td>NaN</td>\n      <td>NaN</td>\n      <td>NaN</td>\n      <td>NaN</td>\n      <td>NaN</td>\n      <td>NaN</td>\n    </tr>\n    <tr>\n      <th>177</th>\n      <td>178.0</td>\n      <td>2010.0</td>\n      <td>Royal Challengers Bangalore</td>\n      <td>Kolkata Knight Riders</td>\n      <td>Kolkata Knight Riders</td>\n      <td>NaN</td>\n      <td>NaN</td>\n      <td>6.75</td>\n      <td>6.8</td>\n      <td>NaN</td>\n      <td>...</td>\n      <td>0.60</td>\n      <td>NaN</td>\n      <td>NaN</td>\n      <td>NaN</td>\n      <td>NaN</td>\n      <td>NaN</td>\n      <td>NaN</td>\n      <td>NaN</td>\n      <td>NaN</td>\n      <td>NaN</td>\n    </tr>\n    <tr>\n      <th>178</th>\n      <td>179.0</td>\n      <td>2010.0</td>\n      <td>Deccan Chargers</td>\n      <td>Chennai Super Kings</td>\n      <td>Deccan Chargers</td>\n      <td>NaN</td>\n      <td>NaN</td>\n      <td>NaN</td>\n      <td>NaN</td>\n      <td>NaN</td>\n      <td>...</td>\n      <td>NaN</td>\n      <td>NaN</td>\n      <td>NaN</td>\n      <td>-1.55</td>\n      <td>NaN</td>\n      <td>1.00</td>\n      <td>NaN</td>\n      <td>NaN</td>\n      <td>NaN</td>\n      <td>NaN</td>\n    </tr>\n  </tbody>\n</table>\n<p>5 rows × 51 columns</p>\n</div>",
            "text/plain": "     match_id  season                        team1                  team2  \\\n174     175.0  2010.0        Kolkata Knight Riders        Deccan Chargers   \n175     176.0  2010.0               Mumbai Indians       Rajasthan Royals   \n176     177.0  2010.0              Kings XI Punjab       Delhi Daredevils   \n177     178.0  2010.0  Royal Challengers Bangalore  Kolkata Knight Riders   \n178     179.0  2010.0              Deccan Chargers    Chennai Super Kings   \n\n                    winner  Batting_RR_Sunrisers Hyderabad  \\\n174  Kolkata Knight Riders                             NaN   \n175         Mumbai Indians                             NaN   \n176       Delhi Daredevils                             NaN   \n177  Kolkata Knight Riders                             NaN   \n178        Deccan Chargers                             NaN   \n\n     Bowling_RR_Sunrisers Hyderabad  Batting_RR_Royal Challengers Bangalore  \\\n174                             NaN                                     NaN   \n175                             NaN                                     NaN   \n176                             NaN                                     NaN   \n177                             NaN                                    6.75   \n178                             NaN                                     NaN   \n\n     Bowling_RR_Royal Challengers Bangalore  Batting_RR_Mumbai Indians  \\\n174                                     NaN                        NaN   \n175                                     NaN                       10.6   \n176                                     NaN                        NaN   \n177                                     6.8                        NaN   \n178                                     NaN                        NaN   \n\n      ...     net_KKR  net_KXIP  net_DD  net_CSK  net_RR  net_DC  net_KTK  \\\n174   ...        0.55       NaN     NaN      NaN     NaN   -0.55      NaN   \n175   ...         NaN       NaN     NaN      NaN    -0.2     NaN      NaN   \n176   ...         NaN      -0.2     0.2      NaN     NaN     NaN      NaN   \n177   ...        0.60       NaN     NaN      NaN     NaN     NaN      NaN   \n178   ...         NaN       NaN     NaN    -1.55     NaN    1.00      NaN   \n\n     net_PW  net_RPS  net_DCa  \n174     NaN      NaN      NaN  \n175     NaN      NaN      NaN  \n176     NaN      NaN      NaN  \n177     NaN      NaN      NaN  \n178     NaN      NaN      NaN  \n\n[5 rows x 51 columns]"
          },
          "metadata": {}
        }
      ]
    },
    {
      "metadata": {
        "trusted": true
      },
      "cell_type": "code",
      "source": "final_2008.to_csv('final_2008.csv',index=False)\nfinal_2009.to_csv('final_2009.csv',index=False)\nfinal_2010.to_csv('final_2010.csv',index=False)\nfinal_2011.to_csv('final_2011.csv',index=False)\nfinal_2012.to_csv('final_2012.csv',index=False)\nfinal_2013.to_csv('final_2013.csv',index=False)\nfinal_2014.to_csv('final_2014.csv',index=False)\nfinal_2015.to_csv('final_2015.csv',index=False)\nfinal_2016.to_csv('final_2016.csv',index=False)\nfinal_2017.to_csv('final_2017.csv',index=False)\nfinal_2018.to_csv('final_2018.csv',index=False)\nfinal_2019.to_csv('final_2019.csv',index=False)",
      "execution_count": 69,
      "outputs": []
    }
  ],
  "metadata": {
    "kernelspec": {
      "name": "python36",
      "display_name": "Python 3.6",
      "language": "python"
    },
    "language_info": {
      "mimetype": "text/x-python",
      "nbconvert_exporter": "python",
      "name": "python",
      "pygments_lexer": "ipython3",
      "version": "3.6.6",
      "file_extension": ".py",
      "codemirror_mode": {
        "version": 3,
        "name": "ipython"
      }
    }
  },
  "nbformat": 4,
  "nbformat_minor": 2
}